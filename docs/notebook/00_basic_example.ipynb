{
 "cells": [
  {
   "cell_type": "markdown",
   "metadata": {},
   "source": [
    "# Usage\n",
    "\n",
    "### ``Gromacs_py`` basic example\n",
    "\n",
    "Here is an example of a short simulation of the SH3 domain of phospholipase C$\\gamma$1.\n",
    "Five successive steps are used:\n",
    "\n",
    "1. Topologie creation using ``GmxSys.prepare_top()``.\n",
    "2. Minimisation of the structure using ``GmxSys.em_2_steps()``.\n",
    "3. Solvation of the system using ``GmxSys.solvate_add_ions()``.\n",
    "4. Equilibration of the system using ``GmxSys.em_equi_three_step_iter_error()``.\n",
    "5. Production run using ``GmxSys.production()``.\n",
    "\n",
    "### Import"
   ]
  },
  {
   "cell_type": "code",
   "execution_count": 1,
   "metadata": {},
   "outputs": [],
   "source": [
    "import sys\n",
    "import os\n",
    "import urllib.request  \n",
    "import pandas as pd\n",
    "import matplotlib\n",
    "import matplotlib.pyplot as plt\n",
    "import numpy as np\n",
    "import seaborn as sns"
   ]
  },
  {
   "cell_type": "markdown",
   "metadata": {},
   "source": [
    "- To use `gromacs_py` in a project:"
   ]
  },
  {
   "cell_type": "code",
   "execution_count": 2,
   "metadata": {},
   "outputs": [],
   "source": [
    "from gromacs_py import gmx"
   ]
  },
  {
   "cell_type": "markdown",
   "metadata": {},
   "source": [
    "## Simulation setup\n",
    "\n",
    "- Define a few variables for you simulation, like:\n",
    "    - simulation output folders\n",
    "    - ionic concentration\n",
    "    - number of minimisation steps\n",
    "    - equilibration and production time"
   ]
  },
  {
   "cell_type": "code",
   "execution_count": 3,
   "metadata": {},
   "outputs": [],
   "source": [
    "# Setup data location\n",
    "DATA_OUT = 'data_sim'\n",
    "PDB_ID = '1Y0M'\n",
    "\n",
    "# System Setup\n",
    "vsite='none'\n",
    "ion_C = 0.15\n",
    "sys_top_folder = os.path.join(DATA_OUT, 'sys_top')\n",
    "\n",
    "# Energy Minimisation\n",
    "em_folder = os.path.join(DATA_OUT, 'em')\n",
    "em_sys_folder = os.path.join(DATA_OUT, 'sys_em')\n",
    "em_step_number = 5000\n",
    "\n",
    "# Equillibration\n",
    "equi_folder = os.path.join(DATA_OUT, 'sys_equi')\n",
    "HA_time = 0.5\n",
    "CA_time = 1.0\n",
    "CA_LOW_time = 2.0\n",
    "\n",
    "dt_HA = 0.001\n",
    "dt = 0.002\n",
    "\n",
    "HA_step = 1000 * HA_time / dt_HA\n",
    "CA_step = 1000 * CA_time / dt\n",
    "CA_LOW_step = 1000 * CA_LOW_time / dt\n",
    "\n",
    "# Production\n",
    "prod_folder = os.path.join(DATA_OUT, 'sys_prod')\n",
    "prod_time = 10.0\n",
    "\n",
    "prod_step = 1000 * prod_time / dt"
   ]
  },
  {
   "cell_type": "markdown",
   "metadata": {},
   "source": [
    "## Get PDB file from the ``rcsb.org`` website "
   ]
  },
  {
   "cell_type": "code",
   "execution_count": 4,
   "metadata": {},
   "outputs": [],
   "source": [
    "os.makedirs(DATA_OUT, exist_ok = True)\n",
    "\n",
    "raw_pdb = urllib.request.urlretrieve('http://files.rcsb.org/download/{}.pdb'.format(PDB_ID),\n",
    "                           '{}/{}.pdb'.format(DATA_OUT, PDB_ID))"
   ]
  },
  {
   "cell_type": "markdown",
   "metadata": {},
   "source": [
    "### Create the `GmxSys` object"
   ]
  },
  {
   "cell_type": "code",
   "execution_count": 5,
   "metadata": {},
   "outputs": [
    {
     "name": "stdout",
     "output_type": "stream",
     "text": [
      "name         : 1Y0M\n",
      "coor_file    : data_sim/1Y0M.pdb\n",
      "nt           : 0\n",
      "ntmpi        : 0\n",
      "sys_history  : 0\n"
     ]
    }
   ],
   "source": [
    "md_sys = gmx.GmxSys(name=PDB_ID, coor_file=raw_pdb[0])\n",
    "md_sys.display()\n"
   ]
  },
  {
   "cell_type": "markdown",
   "metadata": {},
   "source": [
    "## Create topology:\n",
    "\n",
    "Topologie creation involves:\n",
    "- protonation calculation using `pdb2pqr` and `propka`\n",
    "- topologie creation using `pdb2gmx`"
   ]
  },
  {
   "cell_type": "code",
   "execution_count": 6,
   "metadata": {},
   "outputs": [
    {
     "name": "stdout",
     "output_type": "stream",
     "text": [
      "pdb2pqr.py --ff AMBER --ffout AMBER --chain --ph-calc-method=propka tmp_pdb2pqr.pdb 00_1Y0M.pqr\n",
      "gmx pdb2gmx -f 01_1Y0M_good_his.pdb -o 1Y0M_pdb2gmx.pdb -p 1Y0M_pdb2gmx.top -i 1Y0M_posre.itp -water tip3p -ff amber99sb-ildn -ignh -vsite none\n",
      "gmx editconf -f data_sim/prot_top/1Y0M_pdb2gmx.pdb -o data_sim/prot_top/1Y0M_pdb2gmx_box.pdb -bt dodecahedron -d 1.0\n"
     ]
    }
   ],
   "source": [
    "md_sys.prepare_top(out_folder=os.path.join(DATA_OUT, 'prot_top'), vsite=vsite, ff='amber99sb-ildn')\n",
    "md_sys.create_box(dist=1.0, box_type=\"dodecahedron\", check_file_out=True)"
   ]
  },
  {
   "cell_type": "markdown",
   "metadata": {},
   "source": [
    "### 3D coordinates vizualisation using `nglview`\n",
    "\n",
    "Use the `view_coor()` function of the `GmxSys` object to vizualise the protein coordinates.\n",
    "\n",
    "Note that `nglview` library need to be installed :\n",
    "    \n",
    "```\n",
    "conda install nglview\n",
    "```\n",
    "\n",
    "You'll probably need to restart you notebook after installation to enable `nglview` widget appearance."
   ]
  },
  {
   "cell_type": "code",
   "execution_count": 7,
   "metadata": {},
   "outputs": [
    {
     "data": {
      "application/vnd.jupyter.widget-view+json": {
       "model_id": "71a514b0a36b4d38bb3fac01c8530f39",
       "version_major": 2,
       "version_minor": 0
      },
      "text/plain": [
       "_ColormakerRegistry()"
      ]
     },
     "metadata": {},
     "output_type": "display_data"
    },
    {
     "data": {
      "application/vnd.jupyter.widget-view+json": {
       "model_id": "08cd0dba356248dc9fcad18c077bb2b3",
       "version_major": 2,
       "version_minor": 0
      },
      "text/plain": [
       "NGLWidget()"
      ]
     },
     "metadata": {},
     "output_type": "display_data"
    }
   ],
   "source": [
    "view = md_sys.view_coor()\n",
    "view.add_representation(repr_type='licorice', selection='protein')\n",
    "view"
   ]
  },
  {
   "cell_type": "code",
   "execution_count": 8,
   "metadata": {
    "nbsphinx": "hidden"
   },
   "outputs": [],
   "source": [
    "# To hide this cell add the following info in the cell metadata:\n",
    "# \"nbsphinx\": \"hidden\"\n",
    "import nglview as nv\n",
    "nv.write_html('../_static/1Y0M.html', [view])\n",
    "from IPython.display import IFrame"
   ]
  },
  {
   "cell_type": "code",
   "execution_count": 50,
   "metadata": {},
   "outputs": [
    {
     "data": {
      "text/html": [
       "\n",
       "        <iframe\n",
       "            width=\"800\"\n",
       "            height=\"300\"\n",
       "            src=\"../_static/1Y0M.html\"\n",
       "            frameborder=\"0\"\n",
       "            allowfullscreen\n",
       "        ></iframe>\n",
       "        "
      ],
      "text/plain": [
       "<IPython.lib.display.IFrame at 0x7f32fca902e0>"
      ]
     },
     "execution_count": 50,
     "metadata": {},
     "output_type": "execute_result"
    }
   ],
   "source": [
    "# Unecessary, only need to nglview online:\n",
    "IFrame(src='../_static/1Y0M.html', width=800, height=300)"
   ]
  },
  {
   "cell_type": "markdown",
   "metadata": {},
   "source": [
    "## Energy minimisation"
   ]
  },
  {
   "cell_type": "code",
   "execution_count": 10,
   "metadata": {},
   "outputs": [
    {
     "name": "stderr",
     "output_type": "stream",
     "text": [
      "WARNING !!! ADDING unusual parameter : \"emtol\"in the mdp file None\n"
     ]
    },
    {
     "name": "stdout",
     "output_type": "stream",
     "text": [
      "gmx grompp -f Init_em_1Y0M.mdp -c ../prot_top/1Y0M_pdb2gmx_box.pdb -r ../prot_top/1Y0M_pdb2gmx_box.pdb -p ../prot_top/1Y0M_pdb2gmx.top -po out_Init_em_1Y0M.mdp -o Init_em_1Y0M.tpr -maxwarn 1\n",
      "gmx mdrun -s Init_em_1Y0M.tpr -deffnm Init_em_1Y0M -nt 0 -ntmpi 0 -nsteps -2 -nocopyright\n"
     ]
    },
    {
     "name": "stderr",
     "output_type": "stream",
     "text": [
      "WARNING !!! ADDING unusual parameter : \"emtol\"in the mdp file Init_em_1Y0M.mdp\n"
     ]
    },
    {
     "name": "stdout",
     "output_type": "stream",
     "text": [
      "gmx grompp -f 1Y0M.mdp -c Init_em_1Y0M.gro -r Init_em_1Y0M.gro -p ../prot_top/1Y0M_pdb2gmx.top -po out_1Y0M.mdp -o 1Y0M.tpr -maxwarn 1\n",
      "gmx mdrun -s 1Y0M.tpr -deffnm 1Y0M -nt 0 -ntmpi 0 -nsteps -2 -nocopyright\n"
     ]
    }
   ],
   "source": [
    "md_sys.em_2_steps(out_folder=em_folder,\n",
    "                  no_constr_nsteps=em_step_number,\n",
    "                  constr_nsteps=em_step_number,\n",
    "                  posres=\"\",\n",
    "                  create_box_flag=False,\n",
    "                  emtol=0.1, nstxout=100)"
   ]
  },
  {
   "cell_type": "markdown",
   "metadata": {},
   "source": [
    "## Plot energy:"
   ]
  },
  {
   "cell_type": "code",
   "execution_count": 11,
   "metadata": {},
   "outputs": [
    {
     "name": "stdout",
     "output_type": "stream",
     "text": [
      "gmx energy -f data_sim/em/Init_em_1Y0M.edr -o tmp.xvg\n",
      "gmx energy -f data_sim/em/1Y0M.edr -o tmp.xvg\n"
     ]
    },
    {
     "data": {
      "text/plain": [
       "Text(0, 0.5, 'energy (KJ/mol)')"
      ]
     },
     "execution_count": 11,
     "metadata": {},
     "output_type": "execute_result"
    },
    {
     "data": {
      "image/png": "[encoded data removed]",
      "text/plain": [
       "<Figure size 432x288 with 1 Axes>"
      ]
     },
     "metadata": {
      "needs_background": "light"
     },
     "output_type": "display_data"
    }
   ],
   "source": [
    "ener_pd_1 = md_sys.sys_history[-1].get_ener(selection_list=['Potential'])\n",
    "ener_pd_2 = md_sys.get_ener(selection_list=['Potential'])\n",
    "\n",
    "ener_pd_1['label'] = 'no bond constr'\n",
    "ener_pd_2['label'] = 'bond constr'\n",
    "\n",
    "ener_pd = pd.concat([ener_pd_1, ener_pd_2])\n",
    "\n",
    "ener_pd.time = np.arange(len(ener_pd))\n",
    "\n",
    "#ax = ener_pd.plot(x='time')\n",
    "ax = sns.lineplot(x=\"time\", y=\"Potential\",\n",
    "             hue=\"label\",\n",
    "             data=ener_pd)\n",
    "ax.set_xlabel('step')\n",
    "ax.set_ylabel('energy (KJ/mol)')"
   ]
  },
  {
   "cell_type": "markdown",
   "metadata": {},
   "source": [
    "### 3D vizualisation using `nglview`\n",
    "\n",
    "Not much append in the second minimisation, we can have a look at the first one using md_sys.sys_history[-1], which is considered as a `GmxSys` object.\n",
    "\n",
    "Use the `coor_traj` atribute of the `GmxSys` object to vizualise the trajectory.\n",
    "Note that that the `simpletraj` library is a dependenie. \n",
    "To install `simpletraj` use:\n",
    "\n",
    "```\n",
    "pip install simpletraj\n",
    "```\n",
    "\n",
    "- first you should make molecule whole using `convert_trj()` function."
   ]
  },
  {
   "cell_type": "code",
   "execution_count": 12,
   "metadata": {},
   "outputs": [
    {
     "name": "stdout",
     "output_type": "stream",
     "text": [
      "gmx trjconv -f data_sim/em/Init_em_1Y0M.trr -o data_sim/em/Init_em_1Y0M_compact.xtc -s data_sim/em/Init_em_1Y0M.tpr -ur compact -pbc mol\n"
     ]
    }
   ],
   "source": [
    "md_sys.sys_history[-1].convert_trj()"
   ]
  },
  {
   "cell_type": "code",
   "execution_count": 13,
   "metadata": {},
   "outputs": [
    {
     "data": {
      "application/vnd.jupyter.widget-view+json": {
       "model_id": "484222b9873f4032931c1db97216fd87",
       "version_major": 2,
       "version_minor": 0
      },
      "text/plain": [
       "NGLWidget(max_frame=39)"
      ]
     },
     "metadata": {},
     "output_type": "display_data"
    }
   ],
   "source": [
    "view = md_sys.sys_history[-1].view_traj()\n",
    "view.add_representation(repr_type='licorice', selection='protein')\n",
    "view"
   ]
  },
  {
   "cell_type": "code",
   "execution_count": 14,
   "metadata": {
    "nbsphinx": "hidden"
   },
   "outputs": [],
   "source": [
    "# To hide this cell add the following info in the cell metadata:\n",
    "# \"nbsphinx\": \"hidden\"\n",
    "import nglview as nv\n",
    "nv.write_html('../_static/1Y0M_em_traj.html', [view])\n",
    "from IPython.display import IFrame"
   ]
  },
  {
   "cell_type": "code",
   "execution_count": 15,
   "metadata": {},
   "outputs": [
    {
     "data": {
      "text/html": [
       "\n",
       "        <iframe\n",
       "            width=\"800\"\n",
       "            height=\"300\"\n",
       "            src=\"../_static/1Y0M_em_traj.html\"\n",
       "            frameborder=\"0\"\n",
       "            allowfullscreen\n",
       "        ></iframe>\n",
       "        "
      ],
      "text/plain": [
       "<IPython.lib.display.IFrame at 0x7f32fcd8bdf0>"
      ]
     },
     "execution_count": 15,
     "metadata": {},
     "output_type": "execute_result"
    }
   ],
   "source": [
    "# Unecessary, only need to nglview online:\n",
    "IFrame(src='../_static/1Y0M_em_traj.html', width=800, height=300)"
   ]
  },
  {
   "cell_type": "markdown",
   "metadata": {},
   "source": [
    "## Solvation (water and $Na^{+} Cl^{-}$)"
   ]
  },
  {
   "cell_type": "code",
   "execution_count": 16,
   "metadata": {},
   "outputs": [
    {
     "name": "stdout",
     "output_type": "stream",
     "text": [
      "gmx editconf -f data_sim/em/1Y0M.gro -o data_sim/em/1Y0M_box.pdb -bt dodecahedron -d 1.1\n",
      "gmx grompp -f ../../../../gromacs_py/template/mini.mdp -c 1Y0M_water.pdb -r 1Y0M_water.pdb -p 1Y0M_water_ion.top -po out_mini.mdp -o genion_1Y0M_water_ion.tpr -maxwarn 1\n",
      "gmx genion -s genion_1Y0M_water_ion.tpr -p 1Y0M_water_ion.top -o 1Y0M_water_ion.gro -np 32 -pname NA -nn 32 -nname CL\n",
      "name         : 1Y0M\n",
      "sim_name     : genion_1Y0M_water_ion\n",
      "coor_file    : data_sim/sys_top/1Y0M_water_ion.gro\n",
      "top_file     : data_sim/sys_top/1Y0M_water_ion.top\n",
      "tpr          : data_sim/sys_top/genion_1Y0M_water_ion.tpr\n",
      "mdp          : ../../gromacs_py/template/mini.mdp\n",
      "xtc          : data_sim/em/1Y0M.trr\n",
      "edr          : data_sim/em/1Y0M.edr\n",
      "log          : data_sim/em/1Y0M.log\n",
      "nt           : 0\n",
      "ntmpi        : 0\n",
      "sys_history  : 2\n"
     ]
    }
   ],
   "source": [
    "md_sys.solvate_add_ions(out_folder=sys_top_folder,\n",
    "                        ion_C=ion_C)\n",
    "md_sys.display()\n"
   ]
  },
  {
   "cell_type": "markdown",
   "metadata": {},
   "source": [
    "## System minimisation and equilibration"
   ]
  },
  {
   "cell_type": "code",
   "execution_count": 17,
   "metadata": {},
   "outputs": [
    {
     "name": "stdout",
     "output_type": "stream",
     "text": [
      "gmx grompp -f Init_em_1Y0M.mdp -c ../../sys_top/1Y0M_water_ion.gro -r ../../sys_top/1Y0M_water_ion.gro -p ../../sys_top/1Y0M_water_ion.top -po out_Init_em_1Y0M.mdp -o Init_em_1Y0M.tpr -maxwarn 1\n",
      "gmx mdrun -s Init_em_1Y0M.tpr -deffnm Init_em_1Y0M -nt 0 -ntmpi 0 -nsteps -2 -nocopyright\n",
      "gmx grompp -f 1Y0M.mdp -c Init_em_1Y0M.gro -r Init_em_1Y0M.gro -p ../../sys_top/1Y0M_water_ion.top -po out_1Y0M.mdp -o 1Y0M.tpr -maxwarn 1\n",
      "gmx mdrun -s 1Y0M.tpr -deffnm 1Y0M -nt 0 -ntmpi 0 -nsteps -2 -nocopyright\n",
      "gmx trjconv -f data_sim/sys_equi/sys_em/1Y0M.gro -o data_sim/sys_equi/sys_em/1Y0M_compact.pdb -s data_sim/sys_equi/sys_em/1Y0M.tpr -ur compact -pbc mol\n",
      "gmx grompp -f equi_HA_1Y0M.mdp -c ../../sys_em/1Y0M_compact.pdb -r ../../sys_em/1Y0M_compact.pdb -p ../../../sys_top/1Y0M_water_ion.top -po out_equi_HA_1Y0M.mdp -o equi_HA_1Y0M.tpr -maxwarn 1\n",
      "gmx mdrun -s equi_HA_1Y0M.tpr -deffnm equi_HA_1Y0M -nt 0 -ntmpi 0 -nsteps -2 -nocopyright\n",
      "gmx grompp -f equi_CA_1Y0M.mdp -c ../00_equi_HA/equi_HA_1Y0M.gro -r ../../sys_em/1Y0M_compact.pdb -p ../../../sys_top/1Y0M_water_ion.top -po out_equi_CA_1Y0M.mdp -o equi_CA_1Y0M.tpr -maxwarn 1\n",
      "gmx mdrun -s equi_CA_1Y0M.tpr -deffnm equi_CA_1Y0M -nt 0 -ntmpi 0 -nsteps -2 -nocopyright\n",
      "gmx grompp -f equi_CA_LOW_1Y0M.mdp -c ../01_equi_CA/equi_CA_1Y0M.gro -r ../../sys_em/1Y0M_compact.pdb -p ../../../sys_top/1Y0M_water_ion.top -po out_equi_CA_LOW_1Y0M.mdp -o equi_CA_LOW_1Y0M.tpr -maxwarn 1\n",
      "gmx mdrun -s equi_CA_LOW_1Y0M.tpr -deffnm equi_CA_LOW_1Y0M -nt 0 -ntmpi 0 -nsteps -2 -nocopyright\n"
     ]
    }
   ],
   "source": [
    "md_sys.em_equi_three_step_iter_error(out_folder=equi_folder,\n",
    "                                     no_constr_nsteps=em_step_number,\n",
    "                                     constr_nsteps=em_step_number,\n",
    "                                     nsteps_HA=HA_step,\n",
    "                                     nsteps_CA=CA_step,\n",
    "                                     nsteps_CA_LOW=CA_LOW_step,\n",
    "                                     dt=dt, dt_HA=dt_HA,\n",
    "                                     vsite=vsite, maxwarn=1)\n"
   ]
  },
  {
   "cell_type": "markdown",
   "metadata": {},
   "source": [
    "### Plot temperature"
   ]
  },
  {
   "cell_type": "code",
   "execution_count": 20,
   "metadata": {},
   "outputs": [
    {
     "name": "stdout",
     "output_type": "stream",
     "text": [
      "gmx energy -f data_sim/sys_equi/sys_equi/00_equi_HA/equi_HA_1Y0M.edr -o tmp.xvg\n",
      "gmx energy -f data_sim/sys_equi/sys_equi/01_equi_CA/equi_CA_1Y0M.edr -o tmp.xvg\n",
      "gmx energy -f data_sim/sys_equi/sys_equi/02_equi_CA_LOW/equi_CA_LOW_1Y0M.edr -o tmp.xvg\n"
     ]
    }
   ],
   "source": [
    "ener_pd_1 = md_sys.sys_history[-2].get_ener(selection_list=['Volume'])\n",
    "ener_pd_2 = md_sys.sys_history[-1].get_ener(selection_list=['Volume'])\n",
    "ener_pd_3 = md_sys.get_ener(selection_list=['Volume'])\n",
    "\n",
    "ener_pd_1['label'] = 'HA_constr'\n",
    "ener_pd_2['label'] = 'CA_constr'\n",
    "ener_pd_2.time = ener_pd_2.time + ener_pd_1.time.max()\n",
    "ener_pd_3['label'] = 'CA_LOW_constr'\n",
    "ener_pd_3.time = ener_pd_3.time + ener_pd_2.time.max()\n",
    "\n",
    "ener_pd = pd.concat([ener_pd_1, ener_pd_2, ener_pd_3])\n",
    "\n"
   ]
  },
  {
   "cell_type": "code",
   "execution_count": 21,
   "metadata": {},
   "outputs": [
    {
     "data": {
      "text/plain": [
       "Text(0, 0.5, 'Volume ($Å^3$)')"
      ]
     },
     "execution_count": 21,
     "metadata": {},
     "output_type": "execute_result"
    },
    {
     "data": {
      "image/png": "[encoded data removed]",
      "text/plain": [
       "<Figure size 432x288 with 1 Axes>"
      ]
     },
     "metadata": {
      "needs_background": "light"
     },
     "output_type": "display_data"
    }
   ],
   "source": [
    "ax = sns.lineplot(x=\"time\", y=\"Volume\",\n",
    "                  hue=\"label\",\n",
    "                  data=ener_pd)\n",
    "\n",
    "ax.set_xlabel('time (ps)')\n",
    "ax.set_ylabel('Volume ($Å^3$)')\n",
    "#ax.set_ylim(305, 322)"
   ]
  },
  {
   "cell_type": "markdown",
   "metadata": {},
   "source": [
    "## Production"
   ]
  },
  {
   "cell_type": "code",
   "execution_count": 33,
   "metadata": {},
   "outputs": [
    {
     "name": "stdout",
     "output_type": "stream",
     "text": [
      "gmx grompp -f prod_1Y0M.mdp -c ../sys_equi/sys_equi/02_equi_CA_LOW/equi_CA_LOW_1Y0M.gro -r ../sys_equi/sys_equi/02_equi_CA_LOW/equi_CA_LOW_1Y0M.gro -p ../sys_top/1Y0M_water_ion.top -po out_prod_1Y0M.mdp -o prod_1Y0M.tpr -maxwarn 1\n",
      "gmx mdrun -s prod_1Y0M.tpr -deffnm prod_1Y0M -nt 0 -ntmpi 0 -nsteps -2 -nocopyright\n"
     ]
    }
   ],
   "source": [
    "md_sys.production(out_folder=prod_folder,\n",
    "                  nsteps=prod_step,\n",
    "                  dt=dt, vsite=vsite, maxwarn=1)\n"
   ]
  },
  {
   "cell_type": "markdown",
   "metadata": {},
   "source": [
    "## Basic Analysis"
   ]
  },
  {
   "cell_type": "code",
   "execution_count": 34,
   "metadata": {},
   "outputs": [
    {
     "name": "stdout",
     "output_type": "stream",
     "text": [
      "gmx energy -f data_sim/sys_prod/prod_1Y0M.edr -o tmp.xvg\n"
     ]
    },
    {
     "data": {
      "text/plain": [
       "Text(0, 0.5, 'Temperature (K)')"
      ]
     },
     "execution_count": 34,
     "metadata": {},
     "output_type": "execute_result"
    },
    {
     "data": {
      "image/png": "[encoded data removed]",
      "text/plain": [
       "<Figure size 432x288 with 1 Axes>"
      ]
     },
     "metadata": {
      "needs_background": "light"
     },
     "output_type": "display_data"
    }
   ],
   "source": [
    "ener_temp = md_sys.get_ener(selection_list=['T-Protein', 'T-non-Protein'])\n",
    "\n",
    "ax = ener_temp.plot(x='time')\n",
    "ax.set_xlabel('time (ps)')\n",
    "ax.set_ylabel('Temperature (K)')"
   ]
  },
  {
   "cell_type": "markdown",
   "metadata": {},
   "source": [
    "## Prepare trajectory and vizualisation"
   ]
  },
  {
   "cell_type": "code",
   "execution_count": 45,
   "metadata": {
    "scrolled": true
   },
   "outputs": [
    {
     "name": "stdout",
     "output_type": "stream",
     "text": [
      "gmx trjconv -f data_sim/sys_prod/prod_1Y0M.xtc -o data_sim/sys_prod/prod_1Y0M_compact.xtc -s data_sim/sys_prod/prod_1Y0M.tpr -ur compact -pbc mol -center yes -skip 10\n",
      "gmx trjconv -f data_sim/sys_prod/prod_1Y0M_compact.xtc -o data_sim/sys_prod/prod_1Y0M_compact_compact.xtc -s data_sim/sys_prod/prod_1Y0M.tpr -ur compact -pbc none -fit rot+trans\n"
     ]
    }
   ],
   "source": [
    "# Center trajectory\n",
    "md_sys.convert_trj(center='yes', select='Protein\\nSystem\\n', skip='10')\n",
    "# Align the protein coordinates\n",
    "md_sys.convert_trj(select='Protein\\nSystem\\n', fit='rot+trans', pbc='none')"
   ]
  },
  {
   "cell_type": "code",
   "execution_count": 46,
   "metadata": {},
   "outputs": [
    {
     "data": {
      "application/vnd.jupyter.widget-view+json": {
       "model_id": "7f6aeda43da348d9b20bad6e63aa81df",
       "version_major": 2,
       "version_minor": 0
      },
      "text/plain": [
       "NGLWidget(max_frame=100)"
      ]
     },
     "metadata": {},
     "output_type": "display_data"
    }
   ],
   "source": [
    "view = md_sys.view_traj()\n",
    "view.add_representation(repr_type='licorice', selection='protein')\n",
    "view"
   ]
  },
  {
   "cell_type": "code",
   "execution_count": 47,
   "metadata": {
    "nbsphinx": "hidden"
   },
   "outputs": [],
   "source": [
    "# To hide this cell add the following info in the cell metadata:\n",
    "# \"nbsphinx\": \"hidden\"\n",
    "import nglview as nv\n",
    "nv.write_html('../_static/1Y0M_prod_traj.html', [view])\n",
    "from IPython.display import IFrame"
   ]
  },
  {
   "cell_type": "code",
   "execution_count": 48,
   "metadata": {},
   "outputs": [
    {
     "data": {
      "text/html": [
       "\n",
       "        <iframe\n",
       "            width=\"800\"\n",
       "            height=\"300\"\n",
       "            src=\"../_static/1Y0M_prod_traj.html\"\n",
       "            frameborder=\"0\"\n",
       "            allowfullscreen\n",
       "        ></iframe>\n",
       "        "
      ],
      "text/plain": [
       "<IPython.lib.display.IFrame at 0x7f32fcad7d00>"
      ]
     },
     "execution_count": 48,
     "metadata": {},
     "output_type": "execute_result"
    }
   ],
   "source": [
    "# Unecessary, only need to nglview online:\n",
    "IFrame(src='../_static/1Y0M_prod_traj.html', width=800, height=300)"
   ]
  }
 ],
 "metadata": {
  "celltoolbar": "Éditer les Méta-Données",
  "kernelspec": {
   "display_name": "Python 3",
   "language": "python",
   "name": "python3"
  },
  "language_info": {
   "codemirror_mode": {
    "name": "ipython",
    "version": 3
   },
   "file_extension": ".py",
   "mimetype": "text/x-python",
   "name": "python",
   "nbconvert_exporter": "python",
   "pygments_lexer": "ipython3",
   "version": "3.8.2"
  },
  "toc": {
   "base_numbering": 1,
   "nav_menu": {},
   "number_sections": true,
   "sideBar": true,
   "skip_h1_title": false,
   "title_cell": "Table of Contents",
   "title_sidebar": "Contents",
   "toc_cell": false,
   "toc_position": {},
   "toc_section_display": true,
   "toc_window_display": false
  }
 },
 "nbformat": 4,
 "nbformat_minor": 2
}
