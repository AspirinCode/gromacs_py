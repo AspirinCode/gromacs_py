{
 "cells": [
  {
   "cell_type": "code",
   "execution_count": 1,
   "metadata": {},
   "outputs": [],
   "source": [
    "import os\n",
    "import urllib.request"
   ]
  },
  {
   "cell_type": "code",
   "execution_count": 2,
   "metadata": {},
   "outputs": [],
   "source": [
    "from gromacs_py import gmx\n",
    "gmx.show_log()\n",
    "from gromacs_py.tools import ambertools\n",
    "ambertools.show_log()\n",
    "\n",
    "from pdb_manip_py import pdb_manip"
   ]
  },
  {
   "cell_type": "code",
   "execution_count": 3,
   "metadata": {},
   "outputs": [
    {
     "name": "stdout",
     "output_type": "stream",
     "text": [
      "00_basic_example.ipynb                 05_test_ligand_ambertools_trypsin.ipynb\r\n",
      "01_monitor_test.ipynb                  \u001b[0m\u001b[01;34mdata_lig_dna\u001b[0m/\r\n",
      "02_cyclic_amber.ipynb                  \u001b[01;34mdata_sim\u001b[0m/\r\n",
      "03_test_ligand_ambertools-Copy1.ipynb  phenol_h.mol2\r\n",
      "03_test_ligand_ambertools-Copy2.ipynb  phenol_h.pdb\r\n",
      "03_test_ligand_ambertools.ipynb        phenol.pdb\r\n"
     ]
    }
   ],
   "source": [
    "ls"
   ]
  },
  {
   "cell_type": "code",
   "execution_count": 81,
   "metadata": {},
   "outputs": [
    {
     "name": "stdout",
     "output_type": "stream",
     "text": [
      "/home/murail/Documents/Code/gromacs_py/docs/notebook\n"
     ]
    }
   ],
   "source": [
    "cd /home/murail/Documents/Code/gromacs_py/docs/notebook/"
   ]
  },
  {
   "cell_type": "code",
   "execution_count": 61,
   "metadata": {},
   "outputs": [],
   "source": [
    "rm -r data_lig_dna"
   ]
  },
  {
   "cell_type": "markdown",
   "metadata": {},
   "source": [
    "- 453D -> 1:20 m\n",
    "- 1D30 -> 27 s"
   ]
  },
  {
   "cell_type": "code",
   "execution_count": 62,
   "metadata": {},
   "outputs": [],
   "source": [
    "DATA_OUT = 'data_lig_dna'\n",
    "PDB_ID = '1D30'\n",
    "os.makedirs(DATA_OUT, exist_ok = True)\n",
    "\n",
    "raw_pdb = urllib.request.urlretrieve('http://files.rcsb.org/download/{}.pdb'.format(PDB_ID),\n",
    "                           '{}/{}.pdb'.format(DATA_OUT, PDB_ID))"
   ]
  },
  {
   "cell_type": "code",
   "execution_count": 63,
   "metadata": {},
   "outputs": [],
   "source": [
    "# Extract first conf:\n",
    "\n",
    "#pdb_multi = pdb_manip.Multi_Coor(raw_pdb[0])\n",
    "#pdb_model_1 = '{}/{}_model_1.pdb'.format(DATA_OUT, PDB_ID)\n",
    "#pdb_multi.coor_list[0].write_pdb(pdb_model_1)\n",
    "\n",
    "pdb_model_1 = '{}/{}.pdb'.format(DATA_OUT, PDB_ID)"
   ]
  },
  {
   "cell_type": "code",
   "execution_count": 90,
   "metadata": {
    "scrolled": false
   },
   "outputs": [
    {
     "name": "stdout",
     "output_type": "stream",
     "text": [
      "Succeed to read file ../1D30.pdb ,  532 atoms found\n",
      "Succeed to read file 00_1D30.pqr ,  758 atoms found\n",
      "Succeed to read file ../1D30.pdb ,  532 atoms found\n",
      "PDB file DAP.pdb already exist, file not saved\n",
      "PDB files not created, DAP_h.pdb already exist\n",
      "Succeed to read file DAP_h.pdb ,  36 atoms found\n",
      "PDB file DAP_h_unique.pdb already exist, file not saved\n",
      "acpype -i DAP_h_unique.pdb -b DAP -c bcc -a gaff -o gmx -n 0\n",
      "Succeed to create topologie in DAP\n",
      "DAP\n",
      "PDB file 01_1D30_good_his.pdb already exist, file not saved\n",
      "-Create topologie\n",
      "create_top not launched 1D30_pdb2gmx.pdb already exist\n",
      "Add Molecule DAP\n",
      "name         : mol\n",
      "coor_file    : DAP.acpype/DAP_GMX.gro\n",
      "top_file     : DAP.acpype/DAP_GMX_split.top\n",
      "nt           : 0\n",
      "ntmpi        : 0\n",
      "sys_history  : 0\n",
      "Add 1 mol /home/murail/Documents/Code/gromacs_py/docs/notebook/data_lig_dna/prot_top/DAP.acpype/DAP_GMX.itp\n",
      "Concat files: ['1D30_pdb2gmx.pdb', '/home/murail/Documents/Code/gromacs_py/docs/notebook/data_lig_dna/prot_top/DAP_h.pdb']\n",
      "File  1D30_pdb2gmx_mol.pdb  already exist\n"
     ]
    }
   ],
   "source": [
    "md_sys = gmx.GmxSys(name=PDB_ID, coor_file=pdb_model_1)\n",
    "md_sys.prepare_top(out_folder=os.path.join(DATA_OUT, 'prot_top'),\n",
    "                   ff='amber99sb-ildn', include_mol={'DAP':0})"
   ]
  },
  {
   "cell_type": "code",
   "execution_count": 91,
   "metadata": {},
   "outputs": [
    {
     "name": "stdout",
     "output_type": "stream",
     "text": [
      "-Create pbc box\n",
      "create_box not launched data_lig_dna/prot_top/1D30_pdb2gmx_mol_box.pdb already exist\n",
      "Mdp files not created, Init_em_1D30.mdp already exist\n",
      "-Create the tpr file Init_em_1D30.tpr\n",
      "create_tpr not launched Init_em_1D30.tpr already exist\n",
      "-Launch the simulation Init_em_1D30.tpr\n",
      "Simulation not launched Init_em_1D30.gro already exist\n",
      "Mdp files not created, 1D30.mdp already exist\n",
      "-Create the tpr file 1D30.tpr\n",
      "create_tpr not launched 1D30.tpr already exist\n",
      "-Launch the simulation 1D30.tpr\n",
      "Simulation not launched 1D30.gro already exist\n"
     ]
    }
   ],
   "source": [
    "md_sys.em_2_steps(out_folder=os.path.join(DATA_OUT, 'prot_em'),\n",
    "                  no_constr_nsteps=10000,\n",
    "                  constr_nsteps=10000,\n",
    "                  posres=\"\",\n",
    "                  emtol=0.1, nstxout=100, maxwarn=3,\n",
    "                  create_box_flag=True)"
   ]
  },
  {
   "cell_type": "code",
   "execution_count": 92,
   "metadata": {},
   "outputs": [
    {
     "name": "stdout",
     "output_type": "stream",
     "text": [
      "-Convert trj/coor\n",
      "convert trj not launched data_lig_dna/prot_em/1D30_compact.pdb already exist\n",
      "Succeed to read file data_lig_dna/prot_em/1D30_compact.pdb ,  794 atoms found\n"
     ]
    },
    {
     "data": {
      "application/vnd.jupyter.widget-view+json": {
       "model_id": "b1b8de9cb9ef456eaa57ec95e7354d39",
       "version_major": 2,
       "version_minor": 0
      },
      "text/plain": [
       "NGLWidget()"
      ]
     },
     "metadata": {},
     "output_type": "display_data"
    }
   ],
   "source": [
    "view = md_sys.view_coor()\n",
    "view"
   ]
  },
  {
   "cell_type": "code",
   "execution_count": 93,
   "metadata": {},
   "outputs": [
    {
     "name": "stdout",
     "output_type": "stream",
     "text": [
      "-Solvate the pbc box\n",
      "solvate_box not launched 1D30_water.pdb already exist\n",
      "add ions not launched 1D30_water_ion.gro already exist\n",
      "name         : 1D30\n",
      "sim_name     : 1D30\n",
      "coor_file    : data_lig_dna/sys_top/1D30_water_ion.gro\n",
      "top_file     : data_lig_dna/sys_top/1D30_water_ion.top\n",
      "tpr          : data_lig_dna/prot_em/1D30.tpr\n",
      "mdp          : data_lig_dna/prot_em/1D30.mdp\n",
      "xtc          : data_lig_dna/prot_em/1D30.trr\n",
      "edr          : data_lig_dna/prot_em/1D30.edr\n",
      "log          : data_lig_dna/prot_em/1D30.log\n",
      "nt           : 0\n",
      "ntmpi        : 0\n",
      "sys_history  : 2\n"
     ]
    }
   ],
   "source": [
    "md_sys.solvate_add_ions(out_folder=os.path.join(DATA_OUT, 'sys_top'),\n",
    "                        ion_C=0.15, maxwarn=3, create_box_flag=False)\n",
    "md_sys.display()\n"
   ]
  },
  {
   "cell_type": "code",
   "execution_count": 94,
   "metadata": {},
   "outputs": [
    {
     "name": "stdout",
     "output_type": "stream",
     "text": [
      "Mdp files not created, Init_em_1D30.mdp already exist\n",
      "-Create the tpr file Init_em_1D30.tpr\n",
      "create_tpr not launched Init_em_1D30.tpr already exist\n",
      "-Launch the simulation Init_em_1D30.tpr\n",
      "Simulation not launched Init_em_1D30.gro already exist\n",
      "Mdp files not created, 1D30.mdp already exist\n",
      "-Create the tpr file 1D30.tpr\n",
      "create_tpr not launched 1D30.tpr already exist\n",
      "-Launch the simulation 1D30.tpr\n",
      "Simulation not launched 1D30.gro already exist\n"
     ]
    }
   ],
   "source": [
    "md_sys.em_2_steps(out_folder=os.path.join(DATA_OUT, 'sys_em'),\n",
    "                  no_constr_nsteps=10000,\n",
    "                  constr_nsteps=10000,\n",
    "                  posres=\"\",maxwarn=3)"
   ]
  },
  {
   "cell_type": "code",
   "execution_count": 95,
   "metadata": {},
   "outputs": [
    {
     "name": "stdout",
     "output_type": "stream",
     "text": [
      "Mdp files not created, equi_HA_short_1D30.mdp already exist\n",
      "-Create the tpr file equi_HA_short_1D30.tpr\n",
      "create_tpr not launched equi_HA_short_1D30.tpr already exist\n",
      "-Launch the simulation equi_HA_short_1D30.tpr\n",
      "Simulation not launched equi_HA_short_1D30.gro already exist\n"
     ]
    }
   ],
   "source": [
    "mdp_options = {'nsteps': 20000,\n",
    "               'define': '-DPOSRES', 'dt': 0.0005,\n",
    "               'tc-grps': 'DNA DAP Water_and_ions',\n",
    "               'tau_t': '0.1 0.1 0.1',\n",
    "               'ref_t' : '310 310 310'}\n",
    "\n",
    "equi_template_mdp = os.path.join(gmx.GROMACS_MOD_DIRNAME,\n",
    "                                 \"template/equi.mdp\")\n",
    "md_sys.run_md_sim(out_folder=os.path.join(DATA_OUT, \"sys_short_equi\"),\n",
    "                  name=\"equi_HA_short_\" + PDB_ID,\n",
    "                  mdp_template=equi_template_mdp,\n",
    "                  mdp_options=mdp_options, maxwarn=3)"
   ]
  },
  {
   "cell_type": "code",
   "execution_count": 96,
   "metadata": {},
   "outputs": [
    {
     "name": "stdout",
     "output_type": "stream",
     "text": [
      "Mdp files not created, equi_HA_1D30.mdp already exist\n",
      "-Create the tpr file equi_HA_1D30.tpr\n",
      "create_tpr not launched equi_HA_1D30.tpr already exist\n",
      "-Launch the simulation equi_HA_1D30.tpr\n",
      "Simulation not launched equi_HA_1D30.gro already exist\n",
      "Mdp files not created, equi_CA_1D30.mdp already exist\n",
      "-Create the tpr file equi_CA_1D30.tpr\n",
      "create_tpr not launched equi_CA_1D30.tpr already exist\n",
      "-Launch the simulation equi_CA_1D30.tpr\n",
      "Simulation not launched equi_CA_1D30.gro already exist\n",
      "Mdp files not created, equi_CA_LOW_1D30.mdp already exist\n",
      "-Create the tpr file equi_CA_LOW_1D30.tpr\n",
      "create_tpr not launched equi_CA_LOW_1D30.tpr already exist\n",
      "-Launch the simulation equi_CA_LOW_1D30.tpr\n",
      "Simulation not launched equi_CA_LOW_1D30.gro already exist\n"
     ]
    }
   ],
   "source": [
    "HA_time = 0.25\n",
    "CA_time = 0.5\n",
    "CA_LOW_time = 1.0\n",
    "dt = 0.002\n",
    "dt_HA = 0.001\n",
    "\n",
    "mdp_options = {'tc-grps': 'DNA DAP Water_and_ions',\n",
    "               'tau_t': '0.1 0.1 0.1',\n",
    "               'ref_t' : '310 310 310'}\n",
    "\n",
    "md_sys.equi_three_step(out_folder=os.path.join(DATA_OUT, 'sys_equi'),\n",
    "                       nsteps_HA=1000 * HA_time / dt_HA,\n",
    "                       nsteps_CA=1000 * CA_time / dt,\n",
    "                       nsteps_CA_LOW=1000 * CA_LOW_time / dt,\n",
    "                       dt=dt, dt_HA=dt_HA, maxwarn=3,\n",
    "                       **mdp_options)\n"
   ]
  },
  {
   "cell_type": "code",
   "execution_count": 97,
   "metadata": {},
   "outputs": [
    {
     "name": "stdout",
     "output_type": "stream",
     "text": [
      "-Convert trj/coor\n",
      "gmx trjconv -f data_lig_dna/sys_equi/02_equi_CA_LOW/equi_CA_LOW_1D30.xtc -o data_lig_dna/sys_equi/02_equi_CA_LOW/equi_CA_LOW_1D30_compact.xtc -s data_lig_dna/sys_equi/02_equi_CA_LOW/equi_CA_LOW_1D30.tpr -ur compact -pbc mol -center yes\n"
     ]
    }
   ],
   "source": [
    "md_sys.convert_trj(select=\"2\\nSystem\", center=\"yes\")"
   ]
  },
  {
   "cell_type": "code",
   "execution_count": 98,
   "metadata": {},
   "outputs": [
    {
     "data": {
      "application/vnd.jupyter.widget-view+json": {
       "model_id": "3e1bc83684b942c996aad65f61c36a9a",
       "version_major": 2,
       "version_minor": 0
      },
      "text/plain": [
       "NGLWidget(max_frame=100)"
      ]
     },
     "metadata": {},
     "output_type": "display_data"
    }
   ],
   "source": [
    "view = md_sys.view_traj()\n",
    "view"
   ]
  },
  {
   "cell_type": "code",
   "execution_count": null,
   "metadata": {},
   "outputs": [],
   "source": []
  }
 ],
 "metadata": {
  "kernelspec": {
   "display_name": "Python 3",
   "language": "python",
   "name": "python3"
  },
  "language_info": {
   "codemirror_mode": {
    "name": "ipython",
    "version": 3
   },
   "file_extension": ".py",
   "mimetype": "text/x-python",
   "name": "python",
   "nbconvert_exporter": "python",
   "pygments_lexer": "ipython3",
   "version": "3.8.2"
  }
 },
 "nbformat": 4,
 "nbformat_minor": 4
}
