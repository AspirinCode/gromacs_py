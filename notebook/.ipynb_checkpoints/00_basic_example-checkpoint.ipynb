{
 "cells": [
  {
   "cell_type": "markdown",
   "metadata": {},
   "source": [
    "# *Gromacs_py* basic example\n",
    "\n",
    "Here is an example of a short simulation of the SH3 domain of phospholipase Cγ1.\n",
    "Seven successive steps are used:\n",
    "\n",
    "1. Topologie creation using ``create_top.py``.\n",
    "2. Minimisation of the structure using ``minimize_pdb.py``.\n",
    "3. Solvation of the system using ``solvate_ions.py``.\n",
    "4. Minimisation of the system using ``minimize_pdb.py``.\n",
    "5. Equilibration of the system using ``equi_3_step.py``.\n",
    "6. Production run using ``production.py``.\n",
    "7. Extension of the production run using ``extend.py``."
   ]
  },
  {
   "cell_type": "markdown",
   "metadata": {},
   "source": [
    "## Import"
   ]
  },
  {
   "cell_type": "code",
   "execution_count": 1,
   "metadata": {},
   "outputs": [
    {
     "name": "stdout",
     "output_type": "stream",
     "text": [
      "Gromacs version is 5.1.4\n",
      "FORCEFIELD_PATH = /Users/smurail/Documents/Code/gromacs_py/gromacs_py/gromacs/template\n"
     ]
    }
   ],
   "source": [
    "import sys\n",
    "import os\n",
    "import urllib.request  \n",
    "sys.path.insert(0, os.path.abspath('..'))\n",
    "import gromacs_py.gromacs.gmx5 as gmx"
   ]
  },
  {
   "cell_type": "markdown",
   "metadata": {},
   "source": [
    "## Simulation setup"
   ]
  },
  {
   "cell_type": "code",
   "execution_count": 2,
   "metadata": {},
   "outputs": [],
   "source": [
    "# Folder location\n",
    "DATA_OUT = 'data_sim'\n",
    "PDB_ID = '1Y0M'\n",
    "\n",
    "# Setup\n",
    "ion_C = 0.15\n",
    "\n",
    "# Energy Minimisation\n",
    "em_folder = os.path.join(DATA_OUT, 'em')\n",
    "em_step_number = 1000\n",
    "\n",
    "# Equilibration\n",
    "dt = 0.005"
   ]
  },
  {
   "cell_type": "markdown",
   "metadata": {},
   "source": [
    "## Get PDB file from the ``rcsb.org`` website "
   ]
  },
  {
   "cell_type": "code",
   "execution_count": 3,
   "metadata": {},
   "outputs": [
    {
     "data": {
      "text/plain": [
       "('data_sim/1Y0M.pdb', <http.client.HTTPMessage at 0x61866b518>)"
      ]
     },
     "execution_count": 3,
     "metadata": {},
     "output_type": "execute_result"
    }
   ],
   "source": [
    "os.makedirs(DATA_OUT, exist_ok = True)\n",
    "\n",
    "urllib.request.urlretrieve('http://files.rcsb.org/download/{}.pdb'.format(PDB_ID),\n",
    "                           '{}/{}.pdb'.format(DATA_OUT, PDB_ID))"
   ]
  },
  {
   "cell_type": "markdown",
   "metadata": {},
   "source": [
    "## Define the simulation system"
   ]
  },
  {
   "cell_type": "code",
   "execution_count": 4,
   "metadata": {},
   "outputs": [
    {
     "name": "stdout",
     "output_type": "stream",
     "text": [
      "name :\t 1Y0M\n",
      "coor_file :\t data_sim/1Y0M.pdb\n",
      "nt :\t 0\n",
      "ntmpi :\t 0\n"
     ]
    }
   ],
   "source": [
    "md_sys = gmx.GmxSys(name=PDB_ID, coor_file=os.path.join(DATA_OUT, PDB_ID+'.pdb'))\n",
    "md_sys.display()\n"
   ]
  },
  {
   "cell_type": "markdown",
   "metadata": {},
   "source": [
    "## Create topologie:"
   ]
  },
  {
   "cell_type": "code",
   "execution_count": 5,
   "metadata": {},
   "outputs": [
    {
     "name": "stdout",
     "output_type": "stream",
     "text": [
      "Succeed to read file 00_1Y0M.pqr ,  996 atoms found\n",
      "Chain: A  Residue: 0 to 60\n",
      "PDB file 01_1Y0M_good_his.pdb already exist, file not saved\n",
      "-Create topologie\n",
      "create_top not launched 1Y0M_pdb2gmx.pdb already exist\n",
      "-Create pbc box\n",
      "create_box not launched data_sim/prot_top.pdb/1Y0M_pdb2gmx_box.pdb already exist\n",
      "name :\t 1Y0M\n",
      "coor_file :\t data_sim/prot_top.pdb/1Y0M_pdb2gmx_box.pdb\n",
      "top_file :\t data_sim/prot_top.pdb/1Y0M_pdb2gmx.top\n",
      "nt :\t 0\n",
      "ntmpi :\t 0\n"
     ]
    }
   ],
   "source": [
    "md_sys.prepare_top(out_folder=os.path.join(DATA_OUT, 'prot_top'), vsite='hydrogens')\n",
    "md_sys.create_box(dist=1.0, box_type=\"dodecahedron\", check_file_out=True)\n",
    "md_sys.display()\n"
   ]
  },
  {
   "cell_type": "code",
   "execution_count": null,
   "metadata": {},
   "outputs": [],
   "source": [
    "md_sys.em_2_steps(out_folder=DATA_OUT+'/prot_em',\n",
    "                  no_constr_nsteps=em_step_number,\n",
    "                  constr_nsteps=em_step_number,\n",
    "                  posres=\"\",\n",
    "                  create_box_flag=True)\n"
   ]
  },
  {
   "cell_type": "code",
   "execution_count": null,
   "metadata": {},
   "outputs": [],
   "source": [
    "os.path.join(DATA_OUT, 'em')"
   ]
  },
  {
   "cell_type": "code",
   "execution_count": null,
   "metadata": {},
   "outputs": [],
   "source": [
    "del gmx\n",
    "import gromacs_py.gromacs.gmx5 as gmx"
   ]
  },
  {
   "cell_type": "code",
   "execution_count": null,
   "metadata": {},
   "outputs": [],
   "source": []
  }
 ],
 "metadata": {
  "kernelspec": {
   "display_name": "Python 3",
   "language": "python",
   "name": "python3"
  },
  "language_info": {
   "codemirror_mode": {
    "name": "ipython",
    "version": 3
   },
   "file_extension": ".py",
   "mimetype": "text/x-python",
   "name": "python",
   "nbconvert_exporter": "python",
   "pygments_lexer": "ipython3",
   "version": "3.6.7"
  }
 },
 "nbformat": 4,
 "nbformat_minor": 2
}
