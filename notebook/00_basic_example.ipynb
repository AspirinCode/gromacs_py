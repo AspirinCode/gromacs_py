{
 "cells": [
  {
   "cell_type": "markdown",
   "metadata": {},
   "source": [
    "# *Gromacs_py* basic example\n",
    "\n",
    "Here is an example of a short simulation of the SH3 domain of phospholipase Cγ1.\n",
    "Seven successive steps are used:\n",
    "\n",
    "1. Topologie creation using ``GmxSys.prepare_top()``.\n",
    "2. Minimisation of the structure using ``GmxSys.em_2_steps()``.\n",
    "3. Solvation of the system using ``GmxSys.``.\n",
    "4. Minimisation of the system using ``GmxSys.``.\n",
    "5. Equilibration of the system using ``GmxSys.``.\n",
    "6. Production run using ``GmxSys.``.\n",
    "7. Extension of the production run using ``GmxSys.``."
   ]
  },
  {
   "cell_type": "markdown",
   "metadata": {},
   "source": [
    "## Import"
   ]
  },
  {
   "cell_type": "code",
   "execution_count": 1,
   "metadata": {},
   "outputs": [
    {
     "name": "stdout",
     "output_type": "stream",
     "text": [
      "Gromacs version is 2018.3\n",
      "FORCEFIELD_PATH = /home/murail/Documents/Code/gromacs_py/gromacs_py/gromacs/template\n"
     ]
    }
   ],
   "source": [
    "import sys\n",
    "import os\n",
    "import urllib.request  \n",
    "import pandas as pd\n",
    "import matplotlib\n",
    "import matplotlib.pyplot as plt\n",
    "\n",
    "# Gromacs_py import\n",
    "sys.path.insert(0, os.path.abspath('..'))\n",
    "import gromacs_py.gromacs.gmx5 as gmx"
   ]
  },
  {
   "cell_type": "markdown",
   "metadata": {},
   "source": [
    "## Simulation setup"
   ]
  },
  {
   "cell_type": "code",
   "execution_count": 2,
   "metadata": {},
   "outputs": [],
   "source": [
    "# Setup data location\n",
    "DATA_OUT = 'data_sim'\n",
    "PDB_ID = '1Y0M'\n",
    "\n",
    "# System Setup\n",
    "vsite='hydrogens'\n",
    "ion_C = 0.15\n",
    "sys_top_folder = os.path.join(DATA_OUT, 'sys_top')\n",
    "\n",
    "# Energy Minimisation\n",
    "em_folder = os.path.join(DATA_OUT, 'em')\n",
    "em_sys_folder = os.path.join(DATA_OUT, 'sys_em')\n",
    "em_step_number = 1000\n",
    "\n",
    "# Equillibration\n",
    "equi_folder = os.path.join(DATA_OUT, 'sys_equi')\n",
    "HA_time = 0.5\n",
    "CA_time = 1.0\n",
    "CA_LOW_time = 5.0\n",
    "\n",
    "dt_HA = 0.002\n",
    "dt = 0.005\n",
    "\n",
    "HA_step = 1000 * HA_time / dt_HA\n",
    "CA_step = 1000 * CA_time / dt\n",
    "CA_LOW_step = 1000 * CA_LOW_time / dt"
   ]
  },
  {
   "cell_type": "markdown",
   "metadata": {},
   "source": [
    "## Get PDB file from the ``rcsb.org`` website "
   ]
  },
  {
   "cell_type": "code",
   "execution_count": 3,
   "metadata": {},
   "outputs": [],
   "source": [
    "os.makedirs(DATA_OUT, exist_ok = True)\n",
    "\n",
    "raw_pdb = urllib.request.urlretrieve('http://files.rcsb.org/download/{}.pdb'.format(PDB_ID),\n",
    "                           '{}/{}.pdb'.format(DATA_OUT, PDB_ID))"
   ]
  },
  {
   "cell_type": "markdown",
   "metadata": {},
   "source": [
    "## Define the simulation system"
   ]
  },
  {
   "cell_type": "code",
   "execution_count": 4,
   "metadata": {},
   "outputs": [
    {
     "name": "stdout",
     "output_type": "stream",
     "text": [
      "name         : 1Y0M\n",
      "coor_file    : data_sim/1Y0M.pdb\n",
      "nt           : 0\n",
      "ntmpi        : 0\n",
      "sys_history  : []\n"
     ]
    }
   ],
   "source": [
    "md_sys = gmx.GmxSys(name=PDB_ID, coor_file=raw_pdb[0])\n",
    "md_sys.display()\n"
   ]
  },
  {
   "cell_type": "markdown",
   "metadata": {},
   "source": [
    "## Create topologie:"
   ]
  },
  {
   "cell_type": "code",
   "execution_count": 5,
   "metadata": {},
   "outputs": [
    {
     "name": "stdout",
     "output_type": "stream",
     "text": [
      "Succeed to read file 00_1Y0M.pqr ,  996 atoms found\n",
      "Chain: A  Residue: 0 to 60\n",
      "PDB file 01_1Y0M_good_his.pdb already exist, file not saved\n",
      "-Create topologie\n",
      "create_top not launched 1Y0M_pdb2gmx.pdb already exist\n",
      "-Create pbc box\n",
      "create_box not launched data_sim/prot_top/1Y0M_pdb2gmx_box.pdb already exist\n"
     ]
    }
   ],
   "source": [
    "md_sys.prepare_top(out_folder=os.path.join(DATA_OUT, 'prot_top'), vsite=vsite)\n",
    "md_sys.create_box(dist=1.0, box_type=\"dodecahedron\", check_file_out=True)"
   ]
  },
  {
   "cell_type": "markdown",
   "metadata": {},
   "source": [
    "## Energy minimisation"
   ]
  },
  {
   "cell_type": "code",
   "execution_count": 6,
   "metadata": {},
   "outputs": [
    {
     "name": "stdout",
     "output_type": "stream",
     "text": [
      "Mdp files not created,  Init_em_1Y0M.mdp already exist\n",
      "-Create the tpr file  Init_em_1Y0M.tpr\n",
      "create_tpr not launched Init_em_1Y0M.tpr already exist\n",
      "-Launch the simulation Init_em_1Y0M.tpr\n",
      "Simulation not launched Init_em_1Y0M.gro already exist\n",
      "Mdp files not created,  1Y0M.mdp already exist\n",
      "-Create the tpr file  1Y0M.tpr\n",
      "create_tpr not launched 1Y0M.tpr already exist\n",
      "-Launch the simulation 1Y0M.tpr\n",
      "Simulation not launched 1Y0M.gro already exist\n"
     ]
    }
   ],
   "source": [
    "md_sys.em_2_steps(out_folder=em_folder,\n",
    "                  no_constr_nsteps=em_step_number,\n",
    "                  constr_nsteps=em_step_number,\n",
    "                  posres=\"\",\n",
    "                  create_box_flag=False)"
   ]
  },
  {
   "cell_type": "markdown",
   "metadata": {},
   "source": [
    "# Plot energy:"
   ]
  },
  {
   "cell_type": "code",
   "execution_count": 7,
   "metadata": {},
   "outputs": [
    {
     "name": "stdout",
     "output_type": "stream",
     "text": [
      "-Extract energy\n",
      "gmx energy -f data_sim/em/1Y0M.edr -o tmp.xvg\n"
     ]
    },
    {
     "data": {
      "text/plain": [
       "Text(0, 0.5, 'energy (KJ/mol)')"
      ]
     },
     "execution_count": 7,
     "metadata": {},
     "output_type": "execute_result"
    },
    {
     "data": {
      "image/png": "[encoded data removed]",
      "text/plain": [
       "<Figure size 432x288 with 1 Axes>"
      ]
     },
     "metadata": {
      "needs_background": "light"
     },
     "output_type": "display_data"
    }
   ],
   "source": [
    "ener_pd = md_sys.get_ener(selection_list=['Potential'])\n",
    "ax = ener_pd.plot(x='time')\n",
    "ax.set_xlabel('step')\n",
    "ax.set_ylabel('energy (KJ/mol)')"
   ]
  },
  {
   "cell_type": "markdown",
   "metadata": {},
   "source": [
    "## Solvation (water and $Na^{+} Cl^{-}$)"
   ]
  },
  {
   "cell_type": "code",
   "execution_count": 8,
   "metadata": {},
   "outputs": [
    {
     "name": "stdout",
     "output_type": "stream",
     "text": [
      "-Create pbc box\n",
      "create_box not launched data_sim/em/1Y0M_box.pdb already exist\n",
      "-Solvate the pbc box\n",
      "solvate_box not launched 1Y0M_water.pdb already exist\n",
      "add ions not launched 1Y0M_water_ion.gro already exist\n",
      "name         : 1Y0M\n",
      "sim_name     : 1Y0M\n",
      "coor_file    : data_sim/sys_top/1Y0M_water_ion.gro\n",
      "top_file     : data_sim/sys_top/1Y0M_water_ion.top\n",
      "tpr          : data_sim/em/1Y0M.tpr\n",
      "mdp          : data_sim/em/1Y0M.mdp\n",
      "xtc          : data_sim/em/1Y0M.trr\n",
      "edr          : data_sim/em/1Y0M.edr\n",
      "log          : data_sim/em/1Y0M.log\n",
      "nt           : 0\n",
      "ntmpi        : 0\n",
      "sys_history  : [<gromacs_py.gromacs.gmx5.GmxSys object at 0x7f7d1ac0db00>, <gromacs_py.gromacs.gmx5.GmxSys object at 0x7f7d1ac33198>]\n"
     ]
    }
   ],
   "source": [
    "md_sys.solvate_add_ions(out_folder=sys_top_folder,\n",
    "                        ion_C=ion_C)\n",
    "md_sys.display()\n"
   ]
  },
  {
   "cell_type": "markdown",
   "metadata": {},
   "source": [
    "## System minimisation"
   ]
  },
  {
   "cell_type": "code",
   "execution_count": 9,
   "metadata": {},
   "outputs": [
    {
     "name": "stdout",
     "output_type": "stream",
     "text": [
      "Mdp files not created,  Init_em_1Y0M.mdp already exist\n",
      "-Create the tpr file  Init_em_1Y0M.tpr\n",
      "create_tpr not launched Init_em_1Y0M.tpr already exist\n",
      "-Launch the simulation Init_em_1Y0M.tpr\n",
      "Simulation not launched Init_em_1Y0M.gro already exist\n",
      "Mdp files not created,  1Y0M.mdp already exist\n",
      "-Create the tpr file  1Y0M.tpr\n",
      "create_tpr not launched 1Y0M.tpr already exist\n",
      "-Launch the simulation 1Y0M.tpr\n",
      "Simulation not launched 1Y0M.gro already exist\n"
     ]
    }
   ],
   "source": [
    "md_sys.em_2_steps(out_folder=em_sys_folder,\n",
    "                  no_constr_nsteps=em_step_number,\n",
    "                  constr_nsteps=em_step_number)"
   ]
  },
  {
   "cell_type": "code",
   "execution_count": 10,
   "metadata": {},
   "outputs": [
    {
     "name": "stdout",
     "output_type": "stream",
     "text": [
      "-Extract energy\n",
      "gmx energy -f data_sim/sys_em/1Y0M.edr -o tmp.xvg\n"
     ]
    },
    {
     "data": {
      "text/plain": [
       "Text(0, 0.5, 'energy (KJ/mol)')"
      ]
     },
     "execution_count": 10,
     "metadata": {},
     "output_type": "execute_result"
    },
    {
     "data": {
      "image/png": "[encoded data removed]",
      "text/plain": [
       "<Figure size 432x288 with 1 Axes>"
      ]
     },
     "metadata": {
      "needs_background": "light"
     },
     "output_type": "display_data"
    }
   ],
   "source": [
    "ener_pd = md_sys.get_ener(selection_list=['Potential'])\n",
    "ax = ener_pd.plot(x='time')\n",
    "ax.set_xlabel('step')\n",
    "ax.set_ylabel('energy (KJ/mol)')"
   ]
  },
  {
   "cell_type": "markdown",
   "metadata": {},
   "source": [
    "## System minimisation and equilibration"
   ]
  },
  {
   "cell_type": "code",
   "execution_count": 13,
   "metadata": {},
   "outputs": [
    {
     "name": "stdout",
     "output_type": "stream",
     "text": [
      "Mdp files not created,  Init_em_1Y0M.mdp already exist\n",
      "-Create the tpr file  Init_em_1Y0M.tpr\n",
      "create_tpr not launched Init_em_1Y0M.tpr already exist\n",
      "-Launch the simulation Init_em_1Y0M.tpr\n",
      "Simulation not launched Init_em_1Y0M.gro already exist\n",
      "Mdp files not created,  1Y0M.mdp already exist\n",
      "-Create the tpr file  1Y0M.tpr\n",
      "create_tpr not launched 1Y0M.tpr already exist\n",
      "-Launch the simulation 1Y0M.tpr\n",
      "Simulation not launched 1Y0M.gro already exist\n",
      "-Convert trj/coor\n",
      "convert trj not launched data_sim/sys_equi/sys_em/1Y0M_compact.pdb already exist\n",
      "Mdp files not created,  equi_HA_1Y0M.mdp already exist\n",
      "-Create the tpr file  equi_HA_1Y0M.tpr\n",
      "create_tpr not launched equi_HA_1Y0M.tpr already exist\n",
      "-Launch the simulation equi_HA_1Y0M.tpr\n",
      "Simulation not launched equi_HA_1Y0M.gro already exist\n",
      "Mdp files not created,  equi_CA_1Y0M.mdp already exist\n",
      "-Create the tpr file  equi_CA_1Y0M.tpr\n",
      "create_tpr not launched equi_CA_1Y0M.tpr already exist\n",
      "-Launch the simulation equi_CA_1Y0M.tpr\n",
      "Simulation not launched equi_CA_1Y0M.gro already exist\n",
      "Mdp files not created,  equi_CA_LOW_1Y0M.mdp already exist\n",
      "-Create the tpr file  equi_CA_LOW_1Y0M.tpr\n",
      "create_tpr not launched equi_CA_LOW_1Y0M.tpr already exist\n",
      "-Launch the simulation equi_CA_LOW_1Y0M.tpr\n",
      "gmx mdrun -s equi_CA_LOW_1Y0M.tpr -deffnm equi_CA_LOW_1Y0M -nt 0 -ntmpi 0 -nsteps -2 -nocopyright -append -cpi equi_CA_LOW_1Y0M.cpt\n"
     ]
    }
   ],
   "source": [
    "md_sys.em_equi_three_step_iter_error(out_folder=equi_folder,\n",
    "                                     no_constr_nsteps=em_step_number,\n",
    "                                     constr_nsteps=em_step_number,\n",
    "                                     nsteps_HA=HA_step,\n",
    "                                     nsteps_CA=CA_step,\n",
    "                                     nsteps_CA_LOW=CA_LOW_step,\n",
    "                                     dt=dt, dt_HA=dt_HA)\n"
   ]
  },
  {
   "cell_type": "markdown",
   "metadata": {},
   "source": [
    "## Production"
   ]
  },
  {
   "cell_type": "code",
   "execution_count": 14,
   "metadata": {},
   "outputs": [
    {
     "name": "stdout",
     "output_type": "stream",
     "text": [
      "State -9:\n",
      "\n",
      "name         : 1Y0M\n",
      "coor_file    : data_sim/prot_top/1Y0M_pdb2gmx_box.pdb\n",
      "top_file     : data_sim/prot_top/1Y0M_pdb2gmx.top\n",
      "nt           : 0\n",
      "ntmpi        : 0\n",
      "sys_history  : []\n",
      "\n",
      "State -8:\n",
      "\n",
      "name         : 1Y0M\n",
      "sim_name     : Init_em_1Y0M\n",
      "coor_file    : data_sim/em/Init_em_1Y0M.gro\n",
      "top_file     : data_sim/prot_top/1Y0M_pdb2gmx.top\n",
      "tpr          : data_sim/em/Init_em_1Y0M.tpr\n",
      "mdp          : data_sim/em/Init_em_1Y0M.mdp\n",
      "xtc          : data_sim/em/Init_em_1Y0M.trr\n",
      "edr          : data_sim/em/Init_em_1Y0M.edr\n",
      "log          : data_sim/em/Init_em_1Y0M.log\n",
      "nt           : 0\n",
      "ntmpi        : 0\n",
      "sys_history  : []\n",
      "\n",
      "State -7:\n",
      "\n",
      "name         : 1Y0M\n",
      "sim_name     : 1Y0M\n",
      "coor_file    : data_sim/sys_top/1Y0M_water_ion.gro\n",
      "top_file     : data_sim/sys_top/1Y0M_water_ion.top\n",
      "tpr          : data_sim/em/1Y0M.tpr\n",
      "mdp          : data_sim/em/1Y0M.mdp\n",
      "xtc          : data_sim/em/1Y0M.trr\n",
      "edr          : data_sim/em/1Y0M.edr\n",
      "log          : data_sim/em/1Y0M.log\n",
      "nt           : 0\n",
      "ntmpi        : 0\n",
      "sys_history  : []\n",
      "\n",
      "State -6:\n",
      "\n",
      "name         : 1Y0M\n",
      "sim_name     : Init_em_1Y0M\n",
      "coor_file    : data_sim/sys_em/Init_em_1Y0M.gro\n",
      "top_file     : data_sim/sys_top/1Y0M_water_ion.top\n",
      "tpr          : data_sim/sys_em/Init_em_1Y0M.tpr\n",
      "mdp          : data_sim/sys_em/Init_em_1Y0M.mdp\n",
      "xtc          : data_sim/sys_em/Init_em_1Y0M.trr\n",
      "edr          : data_sim/sys_em/Init_em_1Y0M.edr\n",
      "log          : data_sim/sys_em/Init_em_1Y0M.log\n",
      "nt           : 0\n",
      "ntmpi        : 0\n",
      "sys_history  : []\n",
      "\n",
      "State -5:\n",
      "\n",
      "name         : 1Y0M\n",
      "sim_name     : 1Y0M\n",
      "coor_file    : data_sim/sys_em/1Y0M.gro\n",
      "top_file     : data_sim/sys_top/1Y0M_water_ion.top\n",
      "tpr          : data_sim/sys_em/1Y0M.tpr\n",
      "mdp          : data_sim/sys_em/1Y0M.mdp\n",
      "xtc          : data_sim/sys_em/1Y0M.trr\n",
      "edr          : data_sim/sys_em/1Y0M.edr\n",
      "log          : data_sim/sys_em/1Y0M.log\n",
      "nt           : 0\n",
      "ntmpi        : 0\n",
      "sys_history  : []\n",
      "\n",
      "State -4:\n",
      "\n",
      "name         : 1Y0M\n",
      "sim_name     : Init_em_1Y0M\n",
      "coor_file    : data_sim/sys_equi/sys_em/Init_em_1Y0M.gro\n",
      "top_file     : data_sim/sys_top/1Y0M_water_ion.top\n",
      "tpr          : data_sim/sys_equi/sys_em/Init_em_1Y0M.tpr\n",
      "mdp          : data_sim/sys_equi/sys_em/Init_em_1Y0M.mdp\n",
      "xtc          : data_sim/sys_equi/sys_em/Init_em_1Y0M.trr\n",
      "edr          : data_sim/sys_equi/sys_em/Init_em_1Y0M.edr\n",
      "log          : data_sim/sys_equi/sys_em/Init_em_1Y0M.log\n",
      "nt           : 0\n",
      "ntmpi        : 0\n",
      "sys_history  : []\n",
      "\n",
      "State -3:\n",
      "\n",
      "name         : 1Y0M\n",
      "sim_name     : 1Y0M\n",
      "coor_file    : data_sim/sys_equi/sys_em/1Y0M_compact.pdb\n",
      "top_file     : data_sim/sys_top/1Y0M_water_ion.top\n",
      "tpr          : data_sim/sys_equi/sys_em/1Y0M.tpr\n",
      "mdp          : data_sim/sys_equi/sys_em/1Y0M.mdp\n",
      "xtc          : data_sim/sys_equi/sys_em/1Y0M.trr\n",
      "edr          : data_sim/sys_equi/sys_em/1Y0M.edr\n",
      "log          : data_sim/sys_equi/sys_em/1Y0M.log\n",
      "nt           : 0\n",
      "ntmpi        : 0\n",
      "sys_history  : []\n",
      "\n",
      "State -2:\n",
      "\n",
      "name         : 1Y0M\n",
      "sim_name     : equi_HA_1Y0M\n",
      "coor_file    : data_sim/sys_equi/sys_equi/00_equi_HA/equi_HA_1Y0M.gro\n",
      "top_file     : data_sim/sys_top/1Y0M_water_ion.top\n",
      "tpr          : data_sim/sys_equi/sys_equi/00_equi_HA/equi_HA_1Y0M.tpr\n",
      "mdp          : data_sim/sys_equi/sys_equi/00_equi_HA/equi_HA_1Y0M.mdp\n",
      "xtc          : data_sim/sys_equi/sys_equi/00_equi_HA/equi_HA_1Y0M.xtc\n",
      "edr          : data_sim/sys_equi/sys_equi/00_equi_HA/equi_HA_1Y0M.edr\n",
      "log          : data_sim/sys_equi/sys_equi/00_equi_HA/equi_HA_1Y0M.log\n",
      "nt           : 0\n",
      "ntmpi        : 0\n",
      "sys_history  : []\n",
      "\n",
      "State -1:\n",
      "\n",
      "name         : 1Y0M\n",
      "sim_name     : equi_CA_1Y0M\n",
      "coor_file    : data_sim/sys_equi/sys_equi/01_equi_CA/equi_CA_1Y0M.gro\n",
      "top_file     : data_sim/sys_top/1Y0M_water_ion.top\n",
      "tpr          : data_sim/sys_equi/sys_equi/01_equi_CA/equi_CA_1Y0M.tpr\n",
      "mdp          : data_sim/sys_equi/sys_equi/01_equi_CA/equi_CA_1Y0M.mdp\n",
      "xtc          : data_sim/sys_equi/sys_equi/01_equi_CA/equi_CA_1Y0M.xtc\n",
      "edr          : data_sim/sys_equi/sys_equi/01_equi_CA/equi_CA_1Y0M.edr\n",
      "log          : data_sim/sys_equi/sys_equi/01_equi_CA/equi_CA_1Y0M.log\n",
      "nt           : 0\n",
      "ntmpi        : 0\n",
      "sys_history  : []\n",
      "\n",
      "\n",
      "Present State :\n",
      "\n",
      "name         : 1Y0M\n",
      "sim_name     : equi_CA_LOW_1Y0M\n",
      "coor_file    : data_sim/sys_equi/sys_equi/02_equi_CA_LOW/equi_CA_LOW_1Y0M.gro\n",
      "top_file     : data_sim/sys_top/1Y0M_water_ion.top\n",
      "tpr          : data_sim/sys_equi/sys_equi/02_equi_CA_LOW/equi_CA_LOW_1Y0M.tpr\n",
      "mdp          : data_sim/sys_equi/sys_equi/02_equi_CA_LOW/equi_CA_LOW_1Y0M.mdp\n",
      "xtc          : data_sim/sys_equi/sys_equi/02_equi_CA_LOW/equi_CA_LOW_1Y0M.xtc\n",
      "edr          : data_sim/sys_equi/sys_equi/02_equi_CA_LOW/equi_CA_LOW_1Y0M.edr\n",
      "log          : data_sim/sys_equi/sys_equi/02_equi_CA_LOW/equi_CA_LOW_1Y0M.log\n",
      "nt           : 0\n",
      "ntmpi        : 0\n",
      "sys_history  : [<gromacs_py.gromacs.gmx5.GmxSys object at 0x7f7d1ac0db00>, <gromacs_py.gromacs.gmx5.GmxSys object at 0x7f7d1ac33198>, <gromacs_py.gromacs.gmx5.GmxSys object at 0x7f7d1aa01940>, <gromacs_py.gromacs.gmx5.GmxSys object at 0x7f7d4912ddd8>, <gromacs_py.gromacs.gmx5.GmxSys object at 0x7f7d1a9ead68>, <gromacs_py.gromacs.gmx5.GmxSys object at 0x7f7d1a9ea6a0>, <gromacs_py.gromacs.gmx5.GmxSys object at 0x7f7d1a9eac88>, <gromacs_py.gromacs.gmx5.GmxSys object at 0x7f7d1a9eab00>, <gromacs_py.gromacs.gmx5.GmxSys object at 0x7f7d1aa32e80>]\n"
     ]
    }
   ],
   "source": [
    "md_sys.display_history()"
   ]
  },
  {
   "cell_type": "code",
   "execution_count": 17,
   "metadata": {},
   "outputs": [
    {
     "name": "stdout",
     "output_type": "stream",
     "text": [
      "-Extract energy\n",
      "gmx energy -f data_sim/sys_equi/sys_equi/02_equi_CA_LOW/equi_CA_LOW_1Y0M.edr -o tmp.xvg\n"
     ]
    },
    {
     "data": {
      "text/plain": [
       "Text(0, 0.5, 'energy (KJ/mol)')"
      ]
     },
     "execution_count": 17,
     "metadata": {},
     "output_type": "execute_result"
    },
    {
     "data": {
      "image/png": "[encoded data removed]",
      "text/plain": [
       "<Figure size 432x288 with 1 Axes>"
      ]
     },
     "metadata": {
      "needs_background": "light"
     },
     "output_type": "display_data"
    }
   ],
   "source": [
    "ener_pd = md_sys.get_ener(selection_list=['Potential'])\n",
    "ax = ener_pd.plot(x='time')\n",
    "ax.set_xlabel('step')\n",
    "ax.set_ylabel('energy (KJ/mol)')"
   ]
  },
  {
   "cell_type": "code",
   "execution_count": null,
   "metadata": {},
   "outputs": [],
   "source": []
  }
 ],
 "metadata": {
  "kernelspec": {
   "display_name": "Python 3",
   "language": "python",
   "name": "python3"
  },
  "language_info": {
   "codemirror_mode": {
    "name": "ipython",
    "version": 3
   },
   "file_extension": ".py",
   "mimetype": "text/x-python",
   "name": "python",
   "nbconvert_exporter": "python",
   "pygments_lexer": "ipython3",
   "version": "3.6.8"
  }
 },
 "nbformat": 4,
 "nbformat_minor": 2
}
