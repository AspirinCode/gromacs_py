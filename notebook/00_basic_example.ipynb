{
 "cells": [
  {
   "cell_type": "markdown",
   "metadata": {},
   "source": [
    "# *Gromacs_py* basic example\n",
    "\n",
    "Here is an example of a short simulation of the SH3 domain of phospholipase Cγ1.\n",
    "Seven successive steps are used:\n",
    "\n",
    "1. Topologie creation using ``create_top.py``.\n",
    "2. Minimisation of the structure using ``minimize_pdb.py``.\n",
    "3. Solvation of the system using ``solvate_ions.py``.\n",
    "4. Minimisation of the system using ``minimize_pdb.py``.\n",
    "5. Equilibration of the system using ``equi_3_step.py``.\n",
    "6. Production run using ``production.py``.\n",
    "7. Extension of the production run using ``extend.py``."
   ]
  },
  {
   "cell_type": "markdown",
   "metadata": {},
   "source": [
    "## Import"
   ]
  },
  {
   "cell_type": "code",
   "execution_count": 1,
   "metadata": {},
   "outputs": [
    {
     "name": "stdout",
     "output_type": "stream",
     "text": [
      "Gromacs version is 2018.3\n",
      "FORCEFIELD_PATH = /home/murail/Documents/Code/gromacs_py/gromacs_py/gromacs/template\n"
     ]
    }
   ],
   "source": [
    "import sys\n",
    "import os\n",
    "import urllib.request  \n",
    "import pandas as pd\n",
    "import matplotlib.pyplot as plt\n",
    "sys.path.insert(0, os.path.abspath('..'))\n",
    "import gromacs_py.gromacs.gmx5 as gmx"
   ]
  },
  {
   "cell_type": "markdown",
   "metadata": {},
   "source": [
    "## Simulation setup"
   ]
  },
  {
   "cell_type": "code",
   "execution_count": 2,
   "metadata": {},
   "outputs": [],
   "source": [
    "# Folder location\n",
    "DATA_OUT = 'data_sim'\n",
    "PDB_ID = '1Y0M'\n",
    "\n",
    "# Setup\n",
    "ion_C = 0.15\n",
    "\n",
    "# Energy Minimisation\n",
    "em_folder = os.path.join(DATA_OUT, 'em')\n",
    "em_step_number = 1000\n",
    "\n",
    "# Equilibration\n",
    "dt = 0.005"
   ]
  },
  {
   "cell_type": "markdown",
   "metadata": {},
   "source": [
    "## Get PDB file from the ``rcsb.org`` website "
   ]
  },
  {
   "cell_type": "code",
   "execution_count": 3,
   "metadata": {},
   "outputs": [],
   "source": [
    "os.makedirs(DATA_OUT, exist_ok = True)\n",
    "\n",
    "raw_pdb = urllib.request.urlretrieve('http://files.rcsb.org/download/{}.pdb'.format(PDB_ID),\n",
    "                           '{}/{}.pdb'.format(DATA_OUT, PDB_ID))"
   ]
  },
  {
   "cell_type": "markdown",
   "metadata": {},
   "source": [
    "## Define the simulation system"
   ]
  },
  {
   "cell_type": "code",
   "execution_count": 4,
   "metadata": {},
   "outputs": [
    {
     "name": "stdout",
     "output_type": "stream",
     "text": [
      "name         : 1Y0M\n",
      "coor_file    : data_sim/1Y0M.pdb\n",
      "nt           : 0\n",
      "ntmpi        : 0\n"
     ]
    }
   ],
   "source": [
    "md_sys = gmx.GmxSys(name=PDB_ID, coor_file=raw_pdb[0])\n",
    "md_sys.display()\n"
   ]
  },
  {
   "cell_type": "markdown",
   "metadata": {},
   "source": [
    "## Create topologie:"
   ]
  },
  {
   "cell_type": "code",
   "execution_count": 5,
   "metadata": {},
   "outputs": [
    {
     "name": "stdout",
     "output_type": "stream",
     "text": [
      "Succeed to read file 00_1Y0M.pqr ,  996 atoms found\n",
      "Chain: A  Residue: 0 to 60\n",
      "PDB file 01_1Y0M_good_his.pdb already exist, file not saved\n",
      "-Create topologie\n",
      "create_top not launched 1Y0M_pdb2gmx.pdb already exist\n",
      "-Create pbc box\n",
      "create_box not launched data_sim/prot_top/1Y0M_pdb2gmx_box.pdb already exist\n"
     ]
    }
   ],
   "source": [
    "md_sys.prepare_top(out_folder=os.path.join(DATA_OUT, 'prot_top'), vsite='hydrogens')\n",
    "md_sys.create_box(dist=1.0, box_type=\"dodecahedron\", check_file_out=True)"
   ]
  },
  {
   "cell_type": "markdown",
   "metadata": {},
   "source": [
    "## Energy minimisation"
   ]
  },
  {
   "cell_type": "code",
   "execution_count": 6,
   "metadata": {},
   "outputs": [
    {
     "name": "stdout",
     "output_type": "stream",
     "text": [
      "Mdp files not created,  Init_em_1Y0M.mdp already exist\n",
      "-Create the tpr file  Init_em_1Y0M.tpr\n",
      "create_tpr not launched Init_em_1Y0M.tpr already exist\n",
      "-Launch the simulation Init_em_1Y0M.tpr\n",
      "Simulation not launched Init_em_1Y0M.gro already exist\n",
      "Mdp files not created,  1Y0M.mdp already exist\n",
      "-Create the tpr file  1Y0M.tpr\n",
      "create_tpr not launched 1Y0M.tpr already exist\n",
      "-Launch the simulation 1Y0M.tpr\n",
      "Simulation not launched 1Y0M.gro already exist\n"
     ]
    }
   ],
   "source": [
    "md_sys.em_2_steps(out_folder=DATA_OUT+'/prot_em',\n",
    "                  no_constr_nsteps=em_step_number,\n",
    "                  constr_nsteps=em_step_number,\n",
    "                  posres=\"\",\n",
    "                  create_box_flag=False)"
   ]
  },
  {
   "cell_type": "markdown",
   "metadata": {},
   "source": [
    "# Plot energy:"
   ]
  },
  {
   "cell_type": "code",
   "execution_count": 13,
   "metadata": {},
   "outputs": [
    {
     "name": "stdout",
     "output_type": "stream",
     "text": [
      "-Extract energy\n",
      "get_ener not launched data_sim/energy.xvg already exist\n"
     ]
    }
   ],
   "source": [
    "ener_dat = os.path.join(DATA_OUT, 'energy.xvg')\n",
    "\n",
    "\n",
    "ener_pd = md_sys.get_ener(output_xvg=ener_dat, selection_list=['Potential'])\n",
    "\n"
   ]
  },
  {
   "cell_type": "code",
   "execution_count": 14,
   "metadata": {},
   "outputs": [
    {
     "ename": "AttributeError",
     "evalue": "'NoneType' object has no attribute 'plot'",
     "output_type": "error",
     "traceback": [
      "\u001b[0;31m---------------------------------------------------------------------------\u001b[0m",
      "\u001b[0;31mAttributeError\u001b[0m                            Traceback (most recent call last)",
      "\u001b[0;32m<ipython-input-14-11f4645f8868>\u001b[0m in \u001b[0;36m<module>\u001b[0;34m\u001b[0m\n\u001b[0;32m----> 1\u001b[0;31m \u001b[0mener_pd\u001b[0m\u001b[0;34m.\u001b[0m\u001b[0mplot\u001b[0m\u001b[0;34m(\u001b[0m\u001b[0;34m)\u001b[0m\u001b[0;34m\u001b[0m\u001b[0;34m\u001b[0m\u001b[0m\n\u001b[0m",
      "\u001b[0;31mAttributeError\u001b[0m: 'NoneType' object has no attribute 'plot'"
     ]
    }
   ],
   "source": [
    "ener_pd.plot()"
   ]
  },
  {
   "cell_type": "code",
   "execution_count": null,
   "metadata": {},
   "outputs": [],
   "source": [
    "output_xvg = ener_dat\n",
    "with open(output_xvg, 'r') as file_in:\n",
    "    for first_line, line in enumerate(file_in):\n",
    "        if not line.startswith((\"#\", \"@\")):\n",
    "            break\n",
    "ener_pd = pd.read_table(output_xvg, comment='#', names=['time', 'Potential'], skiprows=first_line, sep='\\s+')\n",
    "\n"
   ]
  },
  {
   "cell_type": "code",
   "execution_count": null,
   "metadata": {},
   "outputs": [],
   "source": [
    "ener_pd"
   ]
  },
  {
   "cell_type": "code",
   "execution_count": null,
   "metadata": {},
   "outputs": [],
   "source": [
    "test = ['Potential', 'Temp']\n",
    "'\\n'.join(test)"
   ]
  },
  {
   "cell_type": "code",
   "execution_count": null,
   "metadata": {},
   "outputs": [],
   "source": [
    "['time']+ test"
   ]
  },
  {
   "cell_type": "code",
   "execution_count": null,
   "metadata": {},
   "outputs": [],
   "source": []
  }
 ],
 "metadata": {
  "kernelspec": {
   "display_name": "Python 3",
   "language": "python",
   "name": "python3"
  },
  "language_info": {
   "codemirror_mode": {
    "name": "ipython",
    "version": 3
   },
   "file_extension": ".py",
   "mimetype": "text/x-python",
   "name": "python",
   "nbconvert_exporter": "python",
   "pygments_lexer": "ipython3",
   "version": "3.6.8"
  }
 },
 "nbformat": 4,
 "nbformat_minor": 2
}
