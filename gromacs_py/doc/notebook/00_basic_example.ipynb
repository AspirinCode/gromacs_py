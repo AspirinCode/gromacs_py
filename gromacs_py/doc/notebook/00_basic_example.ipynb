{
 "cells": [
  {
   "cell_type": "markdown",
   "metadata": {},
   "source": [
    "# *Gromacs_py* basic example\n",
    "\n",
    "Here is an example of a short simulation of the SH3 domain of phospholipase Cγ1.\n",
    "Five successive steps are used:\n",
    "\n",
    "1. Topologie creation using ``GmxSys.prepare_top()``.\n",
    "2. Minimisation of the structure using ``GmxSys.em_2_steps()``.\n",
    "3. Solvation of the system using ``GmxSys.solvate_add_ions()``.\n",
    "4. Equilibration of the system using ``GmxSys.em_equi_three_step_iter_error()``.\n",
    "5. Production run using ``GmxSys.production()``.\n"
   ]
  },
  {
   "cell_type": "markdown",
   "metadata": {},
   "source": [
    "### Import"
   ]
  },
  {
   "cell_type": "code",
   "execution_count": 1,
   "metadata": {},
   "outputs": [
    {
     "name": "stdout",
     "output_type": "stream",
     "text": [
      "Gromacs version is 2018.3\n",
      "FORCEFIELD_PATH = /home/murail/Documents/Code/gromacs_py/gromacs_py/gromacs/template\n"
     ]
    }
   ],
   "source": [
    "import sys\n",
    "import os\n",
    "import urllib.request  \n",
    "import pandas as pd\n",
    "import matplotlib\n",
    "import matplotlib.pyplot as plt\n",
    "import numpy as np\n",
    "import seaborn as sns\n",
    "\n",
    "# Gromacs_py import\n",
    "sys.path.insert(0, os.path.abspath('../../..'))\n",
    "import gromacs_py.gromacs.gmx5 as gmx"
   ]
  },
  {
   "cell_type": "markdown",
   "metadata": {},
   "source": [
    "## Simulation setup"
   ]
  },
  {
   "cell_type": "code",
   "execution_count": 16,
   "metadata": {},
   "outputs": [],
   "source": [
    "# Setup data location\n",
    "DATA_OUT = 'data_sim'\n",
    "PDB_ID = '1Y0M'\n",
    "\n",
    "# System Setup\n",
    "vsite='hydrogens'\n",
    "ion_C = 0.15\n",
    "sys_top_folder = os.path.join(DATA_OUT, 'sys_top')\n",
    "\n",
    "# Energy Minimisation\n",
    "em_folder = os.path.join(DATA_OUT, 'em')\n",
    "em_sys_folder = os.path.join(DATA_OUT, 'sys_em')\n",
    "em_step_number = 5000\n",
    "\n",
    "# Equillibration\n",
    "equi_folder = os.path.join(DATA_OUT, 'sys_equi')\n",
    "HA_time = 0.5\n",
    "CA_time = 1.0\n",
    "CA_LOW_time = 2.0\n",
    "\n",
    "dt_HA = 0.002\n",
    "dt = 0.005\n",
    "\n",
    "HA_step = 1000 * HA_time / dt_HA\n",
    "CA_step = 1000 * CA_time / dt\n",
    "CA_LOW_step = 1000 * CA_LOW_time / dt\n",
    "\n",
    "# Production\n",
    "prod_folder = os.path.join(DATA_OUT, 'sys_prod')\n",
    "prod_time = 10.0\n",
    "\n",
    "prod_step = 1000 * prod_time / dt"
   ]
  },
  {
   "cell_type": "markdown",
   "metadata": {},
   "source": [
    "## Get PDB file from the ``rcsb.org`` website "
   ]
  },
  {
   "cell_type": "code",
   "execution_count": 3,
   "metadata": {},
   "outputs": [],
   "source": [
    "os.makedirs(DATA_OUT, exist_ok = True)\n",
    "\n",
    "raw_pdb = urllib.request.urlretrieve('http://files.rcsb.org/download/{}.pdb'.format(PDB_ID),\n",
    "                           '{}/{}.pdb'.format(DATA_OUT, PDB_ID))"
   ]
  },
  {
   "cell_type": "markdown",
   "metadata": {},
   "source": [
    "### Define the simulation system"
   ]
  },
  {
   "cell_type": "code",
   "execution_count": 4,
   "metadata": {},
   "outputs": [
    {
     "name": "stdout",
     "output_type": "stream",
     "text": [
      "name         : 1Y0M\n",
      "coor_file    : data_sim/1Y0M.pdb\n",
      "nt           : 0\n",
      "ntmpi        : 0\n",
      "sys_history  : 0\n"
     ]
    }
   ],
   "source": [
    "md_sys = gmx.GmxSys(name=PDB_ID, coor_file=raw_pdb[0])\n",
    "md_sys.display()\n"
   ]
  },
  {
   "cell_type": "markdown",
   "metadata": {},
   "source": [
    "## 1. Create topology:"
   ]
  },
  {
   "cell_type": "code",
   "execution_count": 5,
   "metadata": {},
   "outputs": [
    {
     "name": "stdout",
     "output_type": "stream",
     "text": [
      "Succeed to read file ../1Y0M.pdb ,  648 atoms found\n",
      "Succeed to save file tmp_pdb2pqr.pdb\n",
      "pdb2pqr.py --ff CHARMM --ffout CHARMM --chain tmp_pdb2pqr.pdb 00_1Y0M.pqr\n",
      "Succeed to read file 00_1Y0M.pqr ,  996 atoms found\n",
      "Chain: A  Residue: 0 to 60\n",
      "Succeed to save file 01_1Y0M_good_his.pdb\n",
      "-Create topologie\n",
      "gmx pdb2gmx -f 01_1Y0M_good_his.pdb -o 1Y0M_pdb2gmx.pdb -p 1Y0M_pdb2gmx.top -i 1Y0M_posre.itp -water tip3p -ff charmm36-jul2017 -ignh -vsite hydrogens\n",
      "Molecule topologie present in 1Y0M_pdb2gmx.top , extract the topologie in a separate file: 1Y0M_pdb2gmx.itp\n",
      "Protein_chain_A\n",
      "-ITP file: 1Y0M_pdb2gmx.itp\n",
      "-molecules defined in the itp file:\n",
      "* Protein_chain_A\n",
      "Rewrite topologie: 1Y0M_pdb2gmx.top\n",
      "-Create pbc box\n",
      "gmx editconf -f data_sim/prot_top/1Y0M_pdb2gmx.pdb -o data_sim/prot_top/1Y0M_pdb2gmx_box.pdb -bt dodecahedron -d 1.0\n"
     ]
    }
   ],
   "source": [
    "md_sys.prepare_top(out_folder=os.path.join(DATA_OUT, 'prot_top'), vsite=vsite)\n",
    "md_sys.create_box(dist=1.0, box_type=\"dodecahedron\", check_file_out=True)"
   ]
  },
  {
   "cell_type": "markdown",
   "metadata": {},
   "source": [
    "## 2. Energy minimisation"
   ]
  },
  {
   "cell_type": "code",
   "execution_count": 6,
   "metadata": {},
   "outputs": [
    {
     "name": "stdout",
     "output_type": "stream",
     "text": [
      "-Create the tpr file  Init_em_1Y0M.tpr\n",
      "gmx grompp -f Init_em_1Y0M.mdp -c ../prot_top/1Y0M_pdb2gmx_box.pdb -r ../prot_top/1Y0M_pdb2gmx_box.pdb -p ../prot_top/1Y0M_pdb2gmx.top -po out_Init_em_1Y0M.mdp -o Init_em_1Y0M.tpr -maxwarn 1\n",
      "-Launch the simulation Init_em_1Y0M.tpr\n",
      "gmx mdrun -s Init_em_1Y0M.tpr -deffnm Init_em_1Y0M -nt 0 -ntmpi 0 -nsteps -2 -nocopyright\n",
      "-Create the tpr file  1Y0M.tpr\n",
      "gmx grompp -f 1Y0M.mdp -c Init_em_1Y0M.gro -r Init_em_1Y0M.gro -p ../prot_top/1Y0M_pdb2gmx.top -po out_1Y0M.mdp -o 1Y0M.tpr -maxwarn 1\n",
      "-Launch the simulation 1Y0M.tpr\n",
      "gmx mdrun -s 1Y0M.tpr -deffnm 1Y0M -nt 0 -ntmpi 0 -nsteps -2 -nocopyright\n"
     ]
    }
   ],
   "source": [
    "md_sys.em_2_steps(out_folder=em_folder,\n",
    "                  no_constr_nsteps=em_step_number,\n",
    "                  constr_nsteps=em_step_number,\n",
    "                  posres=\"\",\n",
    "                  create_box_flag=False)"
   ]
  },
  {
   "cell_type": "markdown",
   "metadata": {},
   "source": [
    "## Plot energy:"
   ]
  },
  {
   "cell_type": "code",
   "execution_count": 7,
   "metadata": {},
   "outputs": [
    {
     "name": "stdout",
     "output_type": "stream",
     "text": [
      "-Extract energy\n",
      "gmx energy -f data_sim/em/Init_em_1Y0M.edr -o tmp.xvg\n",
      "-Extract energy\n",
      "gmx energy -f data_sim/em/1Y0M.edr -o tmp.xvg\n"
     ]
    },
    {
     "data": {
      "text/plain": [
       "Text(0, 0.5, 'energy (KJ/mol)')"
      ]
     },
     "execution_count": 7,
     "metadata": {},
     "output_type": "execute_result"
    },
    {
     "data": {
      "image/png": "[encoded data removed]",
      "text/plain": [
       "<Figure size 432x288 with 1 Axes>"
      ]
     },
     "metadata": {
      "needs_background": "light"
     },
     "output_type": "display_data"
    }
   ],
   "source": [
    "ener_pd_1 = md_sys.sys_history[-1].get_ener(selection_list=['Potential'])\n",
    "ener_pd_2 = md_sys.get_ener(selection_list=['Potential'])\n",
    "\n",
    "ener_pd_1['label'] = 'no bond constr'\n",
    "ener_pd_2['label'] = 'bond constr'\n",
    "\n",
    "ener_pd = pd.concat([ener_pd_1, ener_pd_2])\n",
    "\n",
    "ener_pd.time = np.arange(len(ener_pd))\n",
    "\n",
    "#ax = ener_pd.plot(x='time')\n",
    "ax = sns.lineplot(x=\"time\", y=\"Potential\",\n",
    "             hue=\"label\",\n",
    "             data=ener_pd)\n",
    "ax.set_xlabel('step')\n",
    "ax.set_ylabel('energy (KJ/mol)')"
   ]
  },
  {
   "cell_type": "markdown",
   "metadata": {},
   "source": [
    "## 3. Solvation (water and $Na^{+} Cl^{-}$)"
   ]
  },
  {
   "cell_type": "code",
   "execution_count": 8,
   "metadata": {},
   "outputs": [
    {
     "name": "stdout",
     "output_type": "stream",
     "text": [
      "-Create pbc box\n",
      "gmx editconf -f data_sim/em/1Y0M.gro -o data_sim/em/1Y0M_box.pdb -bt dodecahedron -d 1.1\n",
      "-Solvate the pbc box\n",
      "Copy topologie file and dependancies\n",
      "Copy topologie file and dependancies\n",
      "-Create the tpr file  genion_1Y0M_water_ion.tpr\n",
      "gmx grompp -f ../../../../gromacs/template/mini.mdp -c 1Y0M_water.pdb -r 1Y0M_water.pdb -p 1Y0M_water_ion.top -po out_mini.mdp -o genion_1Y0M_water_ion.tpr -maxwarn 1\n",
      "-Add ions to the system with an ionic concentration of 0.15 M , sytem charge = 0.0 water num= 11860\n",
      "Add ions : NA : 32   CL : 32\n",
      "gmx genion -s genion_1Y0M_water_ion.tpr -p 1Y0M_water_ion.top -o 1Y0M_water_ion.gro -np 32 -pname NA -nn 32 -nname CL\n",
      "name         : 1Y0M\n",
      "sim_name     : genion_1Y0M_water_ion\n",
      "coor_file    : data_sim/sys_top/1Y0M_water_ion.gro\n",
      "top_file     : data_sim/sys_top/1Y0M_water_ion.top\n",
      "tpr          : data_sim/sys_top/genion_1Y0M_water_ion.tpr\n",
      "mdp          : ../../gromacs/template/mini.mdp\n",
      "xtc          : data_sim/em/1Y0M.trr\n",
      "edr          : data_sim/em/1Y0M.edr\n",
      "log          : data_sim/em/1Y0M.log\n",
      "nt           : 0\n",
      "ntmpi        : 0\n",
      "sys_history  : 2\n"
     ]
    }
   ],
   "source": [
    "md_sys.solvate_add_ions(out_folder=sys_top_folder,\n",
    "                        ion_C=ion_C)\n",
    "md_sys.display()\n"
   ]
  },
  {
   "cell_type": "markdown",
   "metadata": {},
   "source": [
    "## 4. System minimisation and equilibration"
   ]
  },
  {
   "cell_type": "code",
   "execution_count": 9,
   "metadata": {},
   "outputs": [
    {
     "name": "stdout",
     "output_type": "stream",
     "text": [
      "-Create the tpr file  Init_em_1Y0M.tpr\n",
      "gmx grompp -f Init_em_1Y0M.mdp -c ../../sys_top/1Y0M_water_ion.gro -r ../../sys_top/1Y0M_water_ion.gro -p ../../sys_top/1Y0M_water_ion.top -po out_Init_em_1Y0M.mdp -o Init_em_1Y0M.tpr -maxwarn 1\n",
      "-Launch the simulation Init_em_1Y0M.tpr\n",
      "gmx mdrun -s Init_em_1Y0M.tpr -deffnm Init_em_1Y0M -nt 0 -ntmpi 0 -nsteps -2 -nocopyright\n",
      "-Create the tpr file  1Y0M.tpr\n",
      "gmx grompp -f 1Y0M.mdp -c Init_em_1Y0M.gro -r Init_em_1Y0M.gro -p ../../sys_top/1Y0M_water_ion.top -po out_1Y0M.mdp -o 1Y0M.tpr -maxwarn 1\n",
      "-Launch the simulation 1Y0M.tpr\n",
      "gmx mdrun -s 1Y0M.tpr -deffnm 1Y0M -nt 0 -ntmpi 0 -nsteps -2 -nocopyright\n",
      "-Convert trj/coor\n",
      "gmx trjconv -f data_sim/sys_equi/sys_em/1Y0M.gro -o data_sim/sys_equi/sys_em/1Y0M_compact.pdb -s data_sim/sys_equi/sys_em/1Y0M.tpr -ur compact -pbc mol\n",
      "-Create the tpr file  equi_HA_1Y0M.tpr\n",
      "gmx grompp -f equi_HA_1Y0M.mdp -c ../../sys_em/1Y0M_compact.pdb -r ../../sys_em/1Y0M_compact.pdb -p ../../../sys_top/1Y0M_water_ion.top -po out_equi_HA_1Y0M.mdp -o equi_HA_1Y0M.tpr -maxwarn 0\n",
      "-Launch the simulation equi_HA_1Y0M.tpr\n",
      "gmx mdrun -s equi_HA_1Y0M.tpr -deffnm equi_HA_1Y0M -nt 0 -ntmpi 0 -nsteps -2 -nocopyright\n",
      "-Create the tpr file  equi_CA_1Y0M.tpr\n",
      "gmx grompp -f equi_CA_1Y0M.mdp -c ../00_equi_HA/equi_HA_1Y0M.gro -r ../../sys_em/1Y0M_compact.pdb -p ../../../sys_top/1Y0M_water_ion.top -po out_equi_CA_1Y0M.mdp -o equi_CA_1Y0M.tpr -maxwarn 0\n",
      "-Launch the simulation equi_CA_1Y0M.tpr\n",
      "gmx mdrun -s equi_CA_1Y0M.tpr -deffnm equi_CA_1Y0M -nt 0 -ntmpi 0 -nsteps -2 -nocopyright\n",
      "-Create the tpr file  equi_CA_LOW_1Y0M.tpr\n",
      "gmx grompp -f equi_CA_LOW_1Y0M.mdp -c ../01_equi_CA/equi_CA_1Y0M.gro -r ../../sys_em/1Y0M_compact.pdb -p ../../../sys_top/1Y0M_water_ion.top -po out_equi_CA_LOW_1Y0M.mdp -o equi_CA_LOW_1Y0M.tpr -maxwarn 0\n",
      "-Launch the simulation equi_CA_LOW_1Y0M.tpr\n",
      "gmx mdrun -s equi_CA_LOW_1Y0M.tpr -deffnm equi_CA_LOW_1Y0M -nt 0 -ntmpi 0 -nsteps -2 -nocopyright\n"
     ]
    }
   ],
   "source": [
    "md_sys.em_equi_three_step_iter_error(out_folder=equi_folder,\n",
    "                                     no_constr_nsteps=em_step_number,\n",
    "                                     constr_nsteps=em_step_number,\n",
    "                                     nsteps_HA=HA_step,\n",
    "                                     nsteps_CA=CA_step,\n",
    "                                     nsteps_CA_LOW=CA_LOW_step,\n",
    "                                     dt=dt, dt_HA=dt_HA)\n"
   ]
  },
  {
   "cell_type": "markdown",
   "metadata": {},
   "source": [
    "### Display history and plot temperature"
   ]
  },
  {
   "cell_type": "code",
   "execution_count": 11,
   "metadata": {},
   "outputs": [
    {
     "name": "stdout",
     "output_type": "stream",
     "text": [
      "State -7:\n",
      "\n",
      "name         : 1Y0M\n",
      "coor_file    : data_sim/prot_top/1Y0M_pdb2gmx_box.pdb\n",
      "top_file     : data_sim/prot_top/1Y0M_pdb2gmx.top\n",
      "nt           : 0\n",
      "ntmpi        : 0\n",
      "sys_history  : 0\n",
      "\n",
      "State -6:\n",
      "\n",
      "name         : 1Y0M\n",
      "sim_name     : Init_em_1Y0M\n",
      "coor_file    : data_sim/em/Init_em_1Y0M.gro\n",
      "top_file     : data_sim/prot_top/1Y0M_pdb2gmx.top\n",
      "tpr          : data_sim/em/Init_em_1Y0M.tpr\n",
      "mdp          : data_sim/em/Init_em_1Y0M.mdp\n",
      "xtc          : data_sim/em/Init_em_1Y0M.trr\n",
      "edr          : data_sim/em/Init_em_1Y0M.edr\n",
      "log          : data_sim/em/Init_em_1Y0M.log\n",
      "nt           : 0\n",
      "ntmpi        : 0\n",
      "sys_history  : 0\n",
      "\n",
      "State -5:\n",
      "\n",
      "name         : 1Y0M\n",
      "sim_name     : genion_1Y0M_water_ion\n",
      "coor_file    : data_sim/sys_top/1Y0M_water_ion.gro\n",
      "top_file     : data_sim/sys_top/1Y0M_water_ion.top\n",
      "tpr          : data_sim/sys_top/genion_1Y0M_water_ion.tpr\n",
      "mdp          : ../../gromacs/template/mini.mdp\n",
      "xtc          : data_sim/em/1Y0M.trr\n",
      "edr          : data_sim/em/1Y0M.edr\n",
      "log          : data_sim/em/1Y0M.log\n",
      "nt           : 0\n",
      "ntmpi        : 0\n",
      "sys_history  : 0\n",
      "\n",
      "State -4:\n",
      "\n",
      "name         : 1Y0M\n",
      "sim_name     : Init_em_1Y0M\n",
      "coor_file    : data_sim/sys_equi/sys_em/Init_em_1Y0M.gro\n",
      "top_file     : data_sim/sys_top/1Y0M_water_ion.top\n",
      "tpr          : data_sim/sys_equi/sys_em/Init_em_1Y0M.tpr\n",
      "mdp          : data_sim/sys_equi/sys_em/Init_em_1Y0M.mdp\n",
      "xtc          : data_sim/sys_equi/sys_em/Init_em_1Y0M.trr\n",
      "edr          : data_sim/sys_equi/sys_em/Init_em_1Y0M.edr\n",
      "log          : data_sim/sys_equi/sys_em/Init_em_1Y0M.log\n",
      "nt           : 0\n",
      "ntmpi        : 0\n",
      "sys_history  : 0\n",
      "\n",
      "State -3:\n",
      "\n",
      "name         : 1Y0M\n",
      "sim_name     : 1Y0M\n",
      "coor_file    : data_sim/sys_equi/sys_em/1Y0M_compact.pdb\n",
      "top_file     : data_sim/sys_top/1Y0M_water_ion.top\n",
      "tpr          : data_sim/sys_equi/sys_em/1Y0M.tpr\n",
      "mdp          : data_sim/sys_equi/sys_em/1Y0M.mdp\n",
      "xtc          : data_sim/sys_equi/sys_em/1Y0M.trr\n",
      "edr          : data_sim/sys_equi/sys_em/1Y0M.edr\n",
      "log          : data_sim/sys_equi/sys_em/1Y0M.log\n",
      "nt           : 0\n",
      "ntmpi        : 0\n",
      "sys_history  : 0\n",
      "\n",
      "State -2:\n",
      "\n",
      "name         : 1Y0M\n",
      "sim_name     : equi_HA_1Y0M\n",
      "coor_file    : data_sim/sys_equi/sys_equi/00_equi_HA/equi_HA_1Y0M.gro\n",
      "top_file     : data_sim/sys_top/1Y0M_water_ion.top\n",
      "tpr          : data_sim/sys_equi/sys_equi/00_equi_HA/equi_HA_1Y0M.tpr\n",
      "mdp          : data_sim/sys_equi/sys_equi/00_equi_HA/equi_HA_1Y0M.mdp\n",
      "xtc          : data_sim/sys_equi/sys_equi/00_equi_HA/equi_HA_1Y0M.xtc\n",
      "edr          : data_sim/sys_equi/sys_equi/00_equi_HA/equi_HA_1Y0M.edr\n",
      "log          : data_sim/sys_equi/sys_equi/00_equi_HA/equi_HA_1Y0M.log\n",
      "nt           : 0\n",
      "ntmpi        : 0\n",
      "sys_history  : 0\n",
      "\n",
      "State -1:\n",
      "\n",
      "name         : 1Y0M\n",
      "sim_name     : equi_CA_1Y0M\n",
      "coor_file    : data_sim/sys_equi/sys_equi/01_equi_CA/equi_CA_1Y0M.gro\n",
      "top_file     : data_sim/sys_top/1Y0M_water_ion.top\n",
      "tpr          : data_sim/sys_equi/sys_equi/01_equi_CA/equi_CA_1Y0M.tpr\n",
      "mdp          : data_sim/sys_equi/sys_equi/01_equi_CA/equi_CA_1Y0M.mdp\n",
      "xtc          : data_sim/sys_equi/sys_equi/01_equi_CA/equi_CA_1Y0M.xtc\n",
      "edr          : data_sim/sys_equi/sys_equi/01_equi_CA/equi_CA_1Y0M.edr\n",
      "log          : data_sim/sys_equi/sys_equi/01_equi_CA/equi_CA_1Y0M.log\n",
      "nt           : 0\n",
      "ntmpi        : 0\n",
      "sys_history  : 0\n",
      "\n"
     ]
    }
   ],
   "source": [
    "md_sys.display_history()"
   ]
  },
  {
   "cell_type": "code",
   "execution_count": 31,
   "metadata": {},
   "outputs": [
    {
     "name": "stdout",
     "output_type": "stream",
     "text": [
      "-Extract energy\n",
      "gmx energy -f data_sim/sys_equi/sys_equi/02_equi_CA_LOW/equi_CA_LOW_1Y0M.edr -o tmp.xvg\n",
      "-Extract energy\n",
      "gmx energy -f data_sim/sys_equi/sys_equi/02_equi_CA_LOW/equi_CA_LOW_1Y0M.edr -o tmp.xvg\n",
      "-Extract energy\n",
      "gmx energy -f data_sim/sys_prod/prod_1Y0M.edr -o tmp.xvg\n"
     ]
    }
   ],
   "source": [
    "ener_pd_1 = md_sys.sys_history[-2].get_ener(selection_list=['Volume'])\n",
    "ener_pd_2 = md_sys.sys_history[-1].get_ener(selection_list=['Volume'])\n",
    "ener_pd_3 = md_sys.get_ener(selection_list=['Volume'])\n",
    "\n",
    "ener_pd_1['label'] = 'HA_constr'\n",
    "ener_pd_2['label'] = 'CA_constr'\n",
    "ener_pd_2.time = ener_pd_2.time + ener_pd_1.time.max()\n",
    "ener_pd_3['label'] = 'CA_LOW_constr'\n",
    "ener_pd_3.time = ener_pd_3.time + ener_pd_2.time.max()\n",
    "\n",
    "ener_pd = pd.concat([ener_pd_1, ener_pd_2, ener_pd_3])\n",
    "\n"
   ]
  },
  {
   "cell_type": "code",
   "execution_count": 34,
   "metadata": {},
   "outputs": [
    {
     "data": {
      "text/plain": [
       "Text(0, 0.5, 'Volume ($Å^3$)')"
      ]
     },
     "execution_count": 34,
     "metadata": {},
     "output_type": "execute_result"
    },
    {
     "data": {
      "image/png": "[encoded data removed]",
      "text/plain": [
       "<Figure size 432x288 with 1 Axes>"
      ]
     },
     "metadata": {
      "needs_background": "light"
     },
     "output_type": "display_data"
    }
   ],
   "source": [
    "ax = sns.lineplot(x=\"time\", y=\"Volume\",\n",
    "                  hue=\"label\",\n",
    "                  data=ener_pd)\n",
    "\n",
    "ax.set_xlabel('time')\n",
    "ax.set_ylabel('Volume ($Å^3$)')\n",
    "#ax.set_ylim(305, 322)"
   ]
  },
  {
   "cell_type": "markdown",
   "metadata": {},
   "source": [
    "## 5. Production"
   ]
  },
  {
   "cell_type": "code",
   "execution_count": 19,
   "metadata": {},
   "outputs": [
    {
     "name": "stdout",
     "output_type": "stream",
     "text": [
      "-Create the tpr file  prod_1Y0M.tpr\n",
      "gmx grompp -f prod_1Y0M.mdp -c ../sys_equi/sys_equi/02_equi_CA_LOW/equi_CA_LOW_1Y0M.gro -r ../sys_equi/sys_equi/02_equi_CA_LOW/equi_CA_LOW_1Y0M.gro -p ../sys_top/1Y0M_water_ion.top -po out_prod_1Y0M.mdp -o prod_1Y0M.tpr -maxwarn 0\n",
      "-Launch the simulation prod_1Y0M.tpr\n",
      "gmx mdrun -s prod_1Y0M.tpr -deffnm prod_1Y0M -nt 0 -ntmpi 0 -nsteps -2 -nocopyright\n"
     ]
    }
   ],
   "source": [
    "md_sys.production(out_folder=prod_folder,\n",
    "                  nsteps=prod_step,\n",
    "                  dt=dt)\n"
   ]
  },
  {
   "cell_type": "code",
   "execution_count": 30,
   "metadata": {},
   "outputs": [
    {
     "name": "stdout",
     "output_type": "stream",
     "text": [
      "-Extract energy\n",
      "gmx energy -f data_sim/sys_prod/prod_1Y0M.edr -o tmp.xvg\n"
     ]
    },
    {
     "data": {
      "text/plain": [
       "Text(0, 0.5, 'Temperature (K)')"
      ]
     },
     "execution_count": 30,
     "metadata": {},
     "output_type": "execute_result"
    },
    {
     "data": {
      "image/png": "[encoded data removed]",
      "text/plain": [
       "<Figure size 432x288 with 1 Axes>"
      ]
     },
     "metadata": {
      "needs_background": "light"
     },
     "output_type": "display_data"
    }
   ],
   "source": [
    "ener_temp = md_sys.get_ener(selection_list=['T-Protein', 'T-non-Protein'])\n",
    "\n",
    "ax = ener_temp.plot(x='time')\n",
    "ax.set_xlabel('time (ps)')\n",
    "ax.set_ylabel('Temperature (K)')"
   ]
  },
  {
   "cell_type": "code",
   "execution_count": null,
   "metadata": {},
   "outputs": [],
   "source": []
  }
 ],
 "metadata": {
  "kernelspec": {
   "display_name": "Python 3",
   "language": "python",
   "name": "python3"
  },
  "language_info": {
   "codemirror_mode": {
    "name": "ipython",
    "version": 3
   },
   "file_extension": ".py",
   "mimetype": "text/x-python",
   "name": "python",
   "nbconvert_exporter": "python",
   "pygments_lexer": "ipython3",
   "version": "3.6.8"
  }
 },
 "nbformat": 4,
 "nbformat_minor": 2
}
